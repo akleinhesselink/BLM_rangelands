{
 "cells": [
  {
   "cell_type": "code",
   "execution_count": 3,
   "metadata": {},
   "outputs": [],
   "source": [
    "using MixedModels, CSV, DataFrames, CategoricalArrays, JellyMe4, RCall"
   ]
  },
  {
   "cell_type": "code",
   "execution_count": 4,
   "metadata": {},
   "outputs": [
    {
     "data": {
      "text/html": [
       "<div class=\"data-frame\"><p>625,950 rows × 14 columns (omitted printing of 7 columns)</p><table class=\"data-frame\"><thead><tr><th></th><th>type</th><th>uname</th><th>year</th><th>value</th><th>admin_st</th><th>district_label</th><th>office_label</th></tr><tr><th></th><th title=\"String\">String</th><th title=\"Int64\">Int64</th><th title=\"Int64\">Int64</th><th title=\"Float64\">Float64</th><th title=\"String\">String</th><th title=\"String\">String</th><th title=\"String\">String</th></tr></thead><tbody><tr><th>1</th><td>pfgAGB</td><td>1</td><td>1991</td><td>101.949</td><td>AZ</td><td>ARIZONA STRIP DISTRICT OFFICE</td><td>ARIZONA STRIP FIELD OFFICE</td></tr><tr><th>2</th><td>pfgAGB</td><td>1</td><td>1992</td><td>94.2598</td><td>AZ</td><td>ARIZONA STRIP DISTRICT OFFICE</td><td>ARIZONA STRIP FIELD OFFICE</td></tr><tr><th>3</th><td>pfgAGB</td><td>1</td><td>1993</td><td>78.4536</td><td>AZ</td><td>ARIZONA STRIP DISTRICT OFFICE</td><td>ARIZONA STRIP FIELD OFFICE</td></tr><tr><th>4</th><td>pfgAGB</td><td>1</td><td>1994</td><td>75.6615</td><td>AZ</td><td>ARIZONA STRIP DISTRICT OFFICE</td><td>ARIZONA STRIP FIELD OFFICE</td></tr><tr><th>5</th><td>pfgAGB</td><td>1</td><td>1995</td><td>122.762</td><td>AZ</td><td>ARIZONA STRIP DISTRICT OFFICE</td><td>ARIZONA STRIP FIELD OFFICE</td></tr><tr><th>6</th><td>pfgAGB</td><td>1</td><td>1996</td><td>70.3702</td><td>AZ</td><td>ARIZONA STRIP DISTRICT OFFICE</td><td>ARIZONA STRIP FIELD OFFICE</td></tr><tr><th>7</th><td>pfgAGB</td><td>1</td><td>1997</td><td>142.188</td><td>AZ</td><td>ARIZONA STRIP DISTRICT OFFICE</td><td>ARIZONA STRIP FIELD OFFICE</td></tr><tr><th>8</th><td>pfgAGB</td><td>1</td><td>1998</td><td>128.482</td><td>AZ</td><td>ARIZONA STRIP DISTRICT OFFICE</td><td>ARIZONA STRIP FIELD OFFICE</td></tr><tr><th>9</th><td>pfgAGB</td><td>1</td><td>1999</td><td>98.0939</td><td>AZ</td><td>ARIZONA STRIP DISTRICT OFFICE</td><td>ARIZONA STRIP FIELD OFFICE</td></tr><tr><th>10</th><td>pfgAGB</td><td>1</td><td>2000</td><td>52.9923</td><td>AZ</td><td>ARIZONA STRIP DISTRICT OFFICE</td><td>ARIZONA STRIP FIELD OFFICE</td></tr><tr><th>11</th><td>pfgAGB</td><td>1</td><td>2001</td><td>60.6675</td><td>AZ</td><td>ARIZONA STRIP DISTRICT OFFICE</td><td>ARIZONA STRIP FIELD OFFICE</td></tr><tr><th>12</th><td>pfgAGB</td><td>1</td><td>2002</td><td>18.0802</td><td>AZ</td><td>ARIZONA STRIP DISTRICT OFFICE</td><td>ARIZONA STRIP FIELD OFFICE</td></tr><tr><th>13</th><td>pfgAGB</td><td>1</td><td>2003</td><td>72.2468</td><td>AZ</td><td>ARIZONA STRIP DISTRICT OFFICE</td><td>ARIZONA STRIP FIELD OFFICE</td></tr><tr><th>14</th><td>pfgAGB</td><td>1</td><td>2004</td><td>116.168</td><td>AZ</td><td>ARIZONA STRIP DISTRICT OFFICE</td><td>ARIZONA STRIP FIELD OFFICE</td></tr><tr><th>15</th><td>pfgAGB</td><td>1</td><td>2005</td><td>89.8552</td><td>AZ</td><td>ARIZONA STRIP DISTRICT OFFICE</td><td>ARIZONA STRIP FIELD OFFICE</td></tr><tr><th>16</th><td>pfgAGB</td><td>1</td><td>2006</td><td>49.9505</td><td>AZ</td><td>ARIZONA STRIP DISTRICT OFFICE</td><td>ARIZONA STRIP FIELD OFFICE</td></tr><tr><th>17</th><td>pfgAGB</td><td>1</td><td>2007</td><td>60.3185</td><td>AZ</td><td>ARIZONA STRIP DISTRICT OFFICE</td><td>ARIZONA STRIP FIELD OFFICE</td></tr><tr><th>18</th><td>pfgAGB</td><td>1</td><td>2008</td><td>128.413</td><td>AZ</td><td>ARIZONA STRIP DISTRICT OFFICE</td><td>ARIZONA STRIP FIELD OFFICE</td></tr><tr><th>19</th><td>pfgAGB</td><td>1</td><td>2009</td><td>151.421</td><td>AZ</td><td>ARIZONA STRIP DISTRICT OFFICE</td><td>ARIZONA STRIP FIELD OFFICE</td></tr><tr><th>20</th><td>pfgAGB</td><td>1</td><td>2010</td><td>142.685</td><td>AZ</td><td>ARIZONA STRIP DISTRICT OFFICE</td><td>ARIZONA STRIP FIELD OFFICE</td></tr><tr><th>21</th><td>pfgAGB</td><td>1</td><td>2011</td><td>72.9027</td><td>AZ</td><td>ARIZONA STRIP DISTRICT OFFICE</td><td>ARIZONA STRIP FIELD OFFICE</td></tr><tr><th>22</th><td>pfgAGB</td><td>1</td><td>2012</td><td>86.8986</td><td>AZ</td><td>ARIZONA STRIP DISTRICT OFFICE</td><td>ARIZONA STRIP FIELD OFFICE</td></tr><tr><th>23</th><td>pfgAGB</td><td>1</td><td>2013</td><td>193.167</td><td>AZ</td><td>ARIZONA STRIP DISTRICT OFFICE</td><td>ARIZONA STRIP FIELD OFFICE</td></tr><tr><th>24</th><td>pfgAGB</td><td>1</td><td>2014</td><td>105.66</td><td>AZ</td><td>ARIZONA STRIP DISTRICT OFFICE</td><td>ARIZONA STRIP FIELD OFFICE</td></tr><tr><th>25</th><td>pfgAGB</td><td>1</td><td>2015</td><td>92.7444</td><td>AZ</td><td>ARIZONA STRIP DISTRICT OFFICE</td><td>ARIZONA STRIP FIELD OFFICE</td></tr><tr><th>26</th><td>pfgAGB</td><td>1</td><td>2016</td><td>109.204</td><td>AZ</td><td>ARIZONA STRIP DISTRICT OFFICE</td><td>ARIZONA STRIP FIELD OFFICE</td></tr><tr><th>27</th><td>pfgAGB</td><td>1</td><td>2017</td><td>123.083</td><td>AZ</td><td>ARIZONA STRIP DISTRICT OFFICE</td><td>ARIZONA STRIP FIELD OFFICE</td></tr><tr><th>28</th><td>pfgAGB</td><td>1</td><td>2018</td><td>126.234</td><td>AZ</td><td>ARIZONA STRIP DISTRICT OFFICE</td><td>ARIZONA STRIP FIELD OFFICE</td></tr><tr><th>29</th><td>pfgAGB</td><td>1</td><td>2019</td><td>158.469</td><td>AZ</td><td>ARIZONA STRIP DISTRICT OFFICE</td><td>ARIZONA STRIP FIELD OFFICE</td></tr><tr><th>30</th><td>pfgAGB</td><td>1</td><td>2020</td><td>226.435</td><td>AZ</td><td>ARIZONA STRIP DISTRICT OFFICE</td><td>ARIZONA STRIP FIELD OFFICE</td></tr><tr><th>&vellip;</th><td>&vellip;</td><td>&vellip;</td><td>&vellip;</td><td>&vellip;</td><td>&vellip;</td><td>&vellip;</td><td>&vellip;</td></tr></tbody></table></div>"
      ],
      "text/latex": [
       "\\begin{tabular}{r|cccccccc}\n",
       "\t& type & uname & year & value & admin\\_st & district\\_label & office\\_label & \\\\\n",
       "\t\\hline\n",
       "\t& String & Int64 & Int64 & Float64 & String & String & String & \\\\\n",
       "\t\\hline\n",
       "\t1 & pfgAGB & 1 & 1991 & 101.949 & AZ & ARIZONA STRIP DISTRICT OFFICE & ARIZONA STRIP FIELD OFFICE & $\\dots$ \\\\\n",
       "\t2 & pfgAGB & 1 & 1992 & 94.2598 & AZ & ARIZONA STRIP DISTRICT OFFICE & ARIZONA STRIP FIELD OFFICE & $\\dots$ \\\\\n",
       "\t3 & pfgAGB & 1 & 1993 & 78.4536 & AZ & ARIZONA STRIP DISTRICT OFFICE & ARIZONA STRIP FIELD OFFICE & $\\dots$ \\\\\n",
       "\t4 & pfgAGB & 1 & 1994 & 75.6615 & AZ & ARIZONA STRIP DISTRICT OFFICE & ARIZONA STRIP FIELD OFFICE & $\\dots$ \\\\\n",
       "\t5 & pfgAGB & 1 & 1995 & 122.762 & AZ & ARIZONA STRIP DISTRICT OFFICE & ARIZONA STRIP FIELD OFFICE & $\\dots$ \\\\\n",
       "\t6 & pfgAGB & 1 & 1996 & 70.3702 & AZ & ARIZONA STRIP DISTRICT OFFICE & ARIZONA STRIP FIELD OFFICE & $\\dots$ \\\\\n",
       "\t7 & pfgAGB & 1 & 1997 & 142.188 & AZ & ARIZONA STRIP DISTRICT OFFICE & ARIZONA STRIP FIELD OFFICE & $\\dots$ \\\\\n",
       "\t8 & pfgAGB & 1 & 1998 & 128.482 & AZ & ARIZONA STRIP DISTRICT OFFICE & ARIZONA STRIP FIELD OFFICE & $\\dots$ \\\\\n",
       "\t9 & pfgAGB & 1 & 1999 & 98.0939 & AZ & ARIZONA STRIP DISTRICT OFFICE & ARIZONA STRIP FIELD OFFICE & $\\dots$ \\\\\n",
       "\t10 & pfgAGB & 1 & 2000 & 52.9923 & AZ & ARIZONA STRIP DISTRICT OFFICE & ARIZONA STRIP FIELD OFFICE & $\\dots$ \\\\\n",
       "\t11 & pfgAGB & 1 & 2001 & 60.6675 & AZ & ARIZONA STRIP DISTRICT OFFICE & ARIZONA STRIP FIELD OFFICE & $\\dots$ \\\\\n",
       "\t12 & pfgAGB & 1 & 2002 & 18.0802 & AZ & ARIZONA STRIP DISTRICT OFFICE & ARIZONA STRIP FIELD OFFICE & $\\dots$ \\\\\n",
       "\t13 & pfgAGB & 1 & 2003 & 72.2468 & AZ & ARIZONA STRIP DISTRICT OFFICE & ARIZONA STRIP FIELD OFFICE & $\\dots$ \\\\\n",
       "\t14 & pfgAGB & 1 & 2004 & 116.168 & AZ & ARIZONA STRIP DISTRICT OFFICE & ARIZONA STRIP FIELD OFFICE & $\\dots$ \\\\\n",
       "\t15 & pfgAGB & 1 & 2005 & 89.8552 & AZ & ARIZONA STRIP DISTRICT OFFICE & ARIZONA STRIP FIELD OFFICE & $\\dots$ \\\\\n",
       "\t16 & pfgAGB & 1 & 2006 & 49.9505 & AZ & ARIZONA STRIP DISTRICT OFFICE & ARIZONA STRIP FIELD OFFICE & $\\dots$ \\\\\n",
       "\t17 & pfgAGB & 1 & 2007 & 60.3185 & AZ & ARIZONA STRIP DISTRICT OFFICE & ARIZONA STRIP FIELD OFFICE & $\\dots$ \\\\\n",
       "\t18 & pfgAGB & 1 & 2008 & 128.413 & AZ & ARIZONA STRIP DISTRICT OFFICE & ARIZONA STRIP FIELD OFFICE & $\\dots$ \\\\\n",
       "\t19 & pfgAGB & 1 & 2009 & 151.421 & AZ & ARIZONA STRIP DISTRICT OFFICE & ARIZONA STRIP FIELD OFFICE & $\\dots$ \\\\\n",
       "\t20 & pfgAGB & 1 & 2010 & 142.685 & AZ & ARIZONA STRIP DISTRICT OFFICE & ARIZONA STRIP FIELD OFFICE & $\\dots$ \\\\\n",
       "\t21 & pfgAGB & 1 & 2011 & 72.9027 & AZ & ARIZONA STRIP DISTRICT OFFICE & ARIZONA STRIP FIELD OFFICE & $\\dots$ \\\\\n",
       "\t22 & pfgAGB & 1 & 2012 & 86.8986 & AZ & ARIZONA STRIP DISTRICT OFFICE & ARIZONA STRIP FIELD OFFICE & $\\dots$ \\\\\n",
       "\t23 & pfgAGB & 1 & 2013 & 193.167 & AZ & ARIZONA STRIP DISTRICT OFFICE & ARIZONA STRIP FIELD OFFICE & $\\dots$ \\\\\n",
       "\t24 & pfgAGB & 1 & 2014 & 105.66 & AZ & ARIZONA STRIP DISTRICT OFFICE & ARIZONA STRIP FIELD OFFICE & $\\dots$ \\\\\n",
       "\t25 & pfgAGB & 1 & 2015 & 92.7444 & AZ & ARIZONA STRIP DISTRICT OFFICE & ARIZONA STRIP FIELD OFFICE & $\\dots$ \\\\\n",
       "\t26 & pfgAGB & 1 & 2016 & 109.204 & AZ & ARIZONA STRIP DISTRICT OFFICE & ARIZONA STRIP FIELD OFFICE & $\\dots$ \\\\\n",
       "\t27 & pfgAGB & 1 & 2017 & 123.083 & AZ & ARIZONA STRIP DISTRICT OFFICE & ARIZONA STRIP FIELD OFFICE & $\\dots$ \\\\\n",
       "\t28 & pfgAGB & 1 & 2018 & 126.234 & AZ & ARIZONA STRIP DISTRICT OFFICE & ARIZONA STRIP FIELD OFFICE & $\\dots$ \\\\\n",
       "\t29 & pfgAGB & 1 & 2019 & 158.469 & AZ & ARIZONA STRIP DISTRICT OFFICE & ARIZONA STRIP FIELD OFFICE & $\\dots$ \\\\\n",
       "\t30 & pfgAGB & 1 & 2020 & 226.435 & AZ & ARIZONA STRIP DISTRICT OFFICE & ARIZONA STRIP FIELD OFFICE & $\\dots$ \\\\\n",
       "\t$\\dots$ & $\\dots$ & $\\dots$ & $\\dots$ & $\\dots$ & $\\dots$ & $\\dots$ & $\\dots$ &  \\\\\n",
       "\\end{tabular}\n"
      ],
      "text/plain": [
       "\u001b[1m625950×14 DataFrame\u001b[0m\n",
       "\u001b[1m    Row \u001b[0m│\u001b[1m type   \u001b[0m\u001b[1m uname \u001b[0m\u001b[1m year  \u001b[0m\u001b[1m value    \u001b[0m\u001b[1m admin_st \u001b[0m\u001b[1m district_label            \u001b[0m ⋯\n",
       "\u001b[1m        \u001b[0m│\u001b[90m String \u001b[0m\u001b[90m Int64 \u001b[0m\u001b[90m Int64 \u001b[0m\u001b[90m Float64  \u001b[0m\u001b[90m String   \u001b[0m\u001b[90m String                    \u001b[0m ⋯\n",
       "────────┼───────────────────────────────────────────────────────────────────────\n",
       "      1 │ pfgAGB      1   1991  101.949   AZ        ARIZONA STRIP DISTRICT OFF ⋯\n",
       "      2 │ pfgAGB      1   1992   94.2598  AZ        ARIZONA STRIP DISTRICT OFF\n",
       "      3 │ pfgAGB      1   1993   78.4536  AZ        ARIZONA STRIP DISTRICT OFF\n",
       "      4 │ pfgAGB      1   1994   75.6615  AZ        ARIZONA STRIP DISTRICT OFF\n",
       "      5 │ pfgAGB      1   1995  122.762   AZ        ARIZONA STRIP DISTRICT OFF ⋯\n",
       "      6 │ pfgAGB      1   1996   70.3702  AZ        ARIZONA STRIP DISTRICT OFF\n",
       "      7 │ pfgAGB      1   1997  142.188   AZ        ARIZONA STRIP DISTRICT OFF\n",
       "      8 │ pfgAGB      1   1998  128.482   AZ        ARIZONA STRIP DISTRICT OFF\n",
       "      9 │ pfgAGB      1   1999   98.0939  AZ        ARIZONA STRIP DISTRICT OFF ⋯\n",
       "     10 │ pfgAGB      1   2000   52.9923  AZ        ARIZONA STRIP DISTRICT OFF\n",
       "     11 │ pfgAGB      1   2001   60.6675  AZ        ARIZONA STRIP DISTRICT OFF\n",
       "   ⋮    │   ⋮       ⋮      ⋮       ⋮         ⋮                      ⋮          ⋱\n",
       " 625941 │ pfgAGB  20933   2007  479.959   WY        WIND RIVER BIGHORN BASIN D\n",
       " 625942 │ pfgAGB  20933   2008  466.994   WY        WIND RIVER BIGHORN BASIN D ⋯\n",
       " 625943 │ pfgAGB  20933   2009  615.002   WY        WIND RIVER BIGHORN BASIN D\n",
       " 625944 │ pfgAGB  20933   2010  687.441   WY        WIND RIVER BIGHORN BASIN D\n",
       " 625945 │ pfgAGB  20933   2011  527.568   WY        WIND RIVER BIGHORN BASIN D\n",
       " 625946 │ pfgAGB  20933   2020  485.012   WY        WIND RIVER BIGHORN BASIN D ⋯\n",
       " 625947 │ pfgAGB  20933   2019  646.765   WY        WIND RIVER BIGHORN BASIN D\n",
       " 625948 │ pfgAGB  20933   2018  600.773   WY        WIND RIVER BIGHORN BASIN D\n",
       " 625949 │ pfgAGB  20933   2017  721.537   WY        WIND RIVER BIGHORN BASIN D\n",
       " 625950 │ pfgAGB  20933   2016  626.355   WY        WIND RIVER BIGHORN BASIN D ⋯\n",
       "\u001b[36m                                               9 columns and 625929 rows omitted\u001b[0m"
      ]
     },
     "execution_count": 4,
     "metadata": {},
     "output_type": "execute_result"
    }
   ],
   "source": [
    "df = DataFrame( CSV.read(\"/Users/andy/Dropbox/projects/BLM_rangeland_trends/data/temp/pfg_agb.csv\", DataFrame))"
   ]
  },
  {
   "cell_type": "code",
   "execution_count": 5,
   "metadata": {},
   "outputs": [
    {
     "data": {
      "text/plain": [
       "14-element Vector{String}:\n",
       " \"type\"\n",
       " \"uname\"\n",
       " \"year\"\n",
       " \"value\"\n",
       " \"admin_st\"\n",
       " \"district_label\"\n",
       " \"office_label\"\n",
       " \"ecogroup\"\n",
       " \"climate_region\"\n",
       " \"area\"\n",
       " \"value2\"\n",
       " \"value1\"\n",
       " \"year2\"\n",
       " \"area2\""
      ]
     },
     "execution_count": 5,
     "metadata": {},
     "output_type": "execute_result"
    }
   ],
   "source": [
    "names(df)"
   ]
  },
  {
   "cell_type": "code",
   "execution_count": 6,
   "metadata": {},
   "outputs": [
    {
     "data": {
      "text/html": [
       "<div class=\"data-frame\"><p>625,950 rows × 7 columns (omitted printing of 1 columns)</p><table class=\"data-frame\"><thead><tr><th></th><th>uname</th><th>year</th><th>office_label</th><th>ecogroup</th><th>climate_region</th><th>value2</th></tr><tr><th></th><th title=\"Int64\">Int64</th><th title=\"Int64\">Int64</th><th title=\"String\">String</th><th title=\"String\">String</th><th title=\"String\">String</th><th title=\"Float64\">Float64</th></tr></thead><tbody><tr><th>1</th><td>1</td><td>1991</td><td>ARIZONA STRIP FIELD OFFICE</td><td>E Cold Deserts</td><td>SW</td><td>-1.79798</td></tr><tr><th>2</th><td>1</td><td>1992</td><td>ARIZONA STRIP FIELD OFFICE</td><td>E Cold Deserts</td><td>SW</td><td>-1.89656</td></tr><tr><th>3</th><td>1</td><td>1993</td><td>ARIZONA STRIP FIELD OFFICE</td><td>E Cold Deserts</td><td>SW</td><td>-2.12727</td></tr><tr><th>4</th><td>1</td><td>1994</td><td>ARIZONA STRIP FIELD OFFICE</td><td>E Cold Deserts</td><td>SW</td><td>-2.17282</td></tr><tr><th>5</th><td>1</td><td>1995</td><td>ARIZONA STRIP FIELD OFFICE</td><td>E Cold Deserts</td><td>SW</td><td>-1.56448</td></tr><tr><th>6</th><td>1</td><td>1996</td><td>ARIZONA STRIP FIELD OFFICE</td><td>E Cold Deserts</td><td>SW</td><td>-2.26395</td></tr><tr><th>7</th><td>1</td><td>1997</td><td>ARIZONA STRIP FIELD OFFICE</td><td>E Cold Deserts</td><td>SW</td><td>-1.37982</td></tr><tr><th>8</th><td>1</td><td>1998</td><td>ARIZONA STRIP FIELD OFFICE</td><td>E Cold Deserts</td><td>SW</td><td>-1.50723</td></tr><tr><th>9</th><td>1</td><td>1999</td><td>ARIZONA STRIP FIELD OFFICE</td><td>E Cold Deserts</td><td>SW</td><td>-1.84644</td></tr><tr><th>10</th><td>1</td><td>2000</td><td>ARIZONA STRIP FIELD OFFICE</td><td>E Cold Deserts</td><td>SW</td><td>-2.62046</td></tr><tr><th>11</th><td>1</td><td>2001</td><td>ARIZONA STRIP FIELD OFFICE</td><td>E Cold Deserts</td><td>SW</td><td>-2.45044</td></tr><tr><th>12</th><td>1</td><td>2002</td><td>ARIZONA STRIP FIELD OFFICE</td><td>E Cold Deserts</td><td>SW</td><td>-3.97213</td></tr><tr><th>13</th><td>1</td><td>2003</td><td>ARIZONA STRIP FIELD OFFICE</td><td>E Cold Deserts</td><td>SW</td><td>-2.23087</td></tr><tr><th>14</th><td>1</td><td>2004</td><td>ARIZONA STRIP FIELD OFFICE</td><td>E Cold Deserts</td><td>SW</td><td>-1.63387</td></tr><tr><th>15</th><td>1</td><td>2005</td><td>ARIZONA STRIP FIELD OFFICE</td><td>E Cold Deserts</td><td>SW</td><td>-1.95671</td></tr><tr><th>16</th><td>1</td><td>2006</td><td>ARIZONA STRIP FIELD OFFICE</td><td>E Cold Deserts</td><td>SW</td><td>-2.69477</td></tr><tr><th>17</th><td>1</td><td>2007</td><td>ARIZONA STRIP FIELD OFFICE</td><td>E Cold Deserts</td><td>SW</td><td>-2.45769</td></tr><tr><th>18</th><td>1</td><td>2008</td><td>ARIZONA STRIP FIELD OFFICE</td><td>E Cold Deserts</td><td>SW</td><td>-1.5079</td></tr><tr><th>19</th><td>1</td><td>2009</td><td>ARIZONA STRIP FIELD OFFICE</td><td>E Cold Deserts</td><td>SW</td><td>-1.30074</td></tr><tr><th>20</th><td>1</td><td>2010</td><td>ARIZONA STRIP FIELD OFFICE</td><td>E Cold Deserts</td><td>SW</td><td>-1.37543</td></tr><tr><th>21</th><td>1</td><td>2011</td><td>ARIZONA STRIP FIELD OFFICE</td><td>E Cold Deserts</td><td>SW</td><td>-2.21951</td></tr><tr><th>22</th><td>1</td><td>2012</td><td>ARIZONA STRIP FIELD OFFICE</td><td>E Cold Deserts</td><td>SW</td><td>-1.99877</td></tr><tr><th>23</th><td>1</td><td>2013</td><td>ARIZONA STRIP FIELD OFFICE</td><td>E Cold Deserts</td><td>SW</td><td>-0.994676</td></tr><tr><th>24</th><td>1</td><td>2014</td><td>ARIZONA STRIP FIELD OFFICE</td><td>E Cold Deserts</td><td>SW</td><td>-1.75305</td></tr><tr><th>25</th><td>1</td><td>2015</td><td>ARIZONA STRIP FIELD OFFICE</td><td>E Cold Deserts</td><td>SW</td><td>-1.91693</td></tr><tr><th>26</th><td>1</td><td>2016</td><td>ARIZONA STRIP FIELD OFFICE</td><td>E Cold Deserts</td><td>SW</td><td>-1.71158</td></tr><tr><th>27</th><td>1</td><td>2017</td><td>ARIZONA STRIP FIELD OFFICE</td><td>E Cold Deserts</td><td>SW</td><td>-1.56119</td></tr><tr><th>28</th><td>1</td><td>2018</td><td>ARIZONA STRIP FIELD OFFICE</td><td>E Cold Deserts</td><td>SW</td><td>-1.52942</td></tr><tr><th>29</th><td>1</td><td>2019</td><td>ARIZONA STRIP FIELD OFFICE</td><td>E Cold Deserts</td><td>SW</td><td>-1.24355</td></tr><tr><th>30</th><td>1</td><td>2020</td><td>ARIZONA STRIP FIELD OFFICE</td><td>E Cold Deserts</td><td>SW</td><td>-0.794938</td></tr><tr><th>&vellip;</th><td>&vellip;</td><td>&vellip;</td><td>&vellip;</td><td>&vellip;</td><td>&vellip;</td><td>&vellip;</td></tr></tbody></table></div>"
      ],
      "text/latex": [
       "\\begin{tabular}{r|ccccccc}\n",
       "\t& uname & year & office\\_label & ecogroup & climate\\_region & value2 & \\\\\n",
       "\t\\hline\n",
       "\t& Int64 & Int64 & String & String & String & Float64 & \\\\\n",
       "\t\\hline\n",
       "\t1 & 1 & 1991 & ARIZONA STRIP FIELD OFFICE & E Cold Deserts & SW & -1.79798 & $\\dots$ \\\\\n",
       "\t2 & 1 & 1992 & ARIZONA STRIP FIELD OFFICE & E Cold Deserts & SW & -1.89656 & $\\dots$ \\\\\n",
       "\t3 & 1 & 1993 & ARIZONA STRIP FIELD OFFICE & E Cold Deserts & SW & -2.12727 & $\\dots$ \\\\\n",
       "\t4 & 1 & 1994 & ARIZONA STRIP FIELD OFFICE & E Cold Deserts & SW & -2.17282 & $\\dots$ \\\\\n",
       "\t5 & 1 & 1995 & ARIZONA STRIP FIELD OFFICE & E Cold Deserts & SW & -1.56448 & $\\dots$ \\\\\n",
       "\t6 & 1 & 1996 & ARIZONA STRIP FIELD OFFICE & E Cold Deserts & SW & -2.26395 & $\\dots$ \\\\\n",
       "\t7 & 1 & 1997 & ARIZONA STRIP FIELD OFFICE & E Cold Deserts & SW & -1.37982 & $\\dots$ \\\\\n",
       "\t8 & 1 & 1998 & ARIZONA STRIP FIELD OFFICE & E Cold Deserts & SW & -1.50723 & $\\dots$ \\\\\n",
       "\t9 & 1 & 1999 & ARIZONA STRIP FIELD OFFICE & E Cold Deserts & SW & -1.84644 & $\\dots$ \\\\\n",
       "\t10 & 1 & 2000 & ARIZONA STRIP FIELD OFFICE & E Cold Deserts & SW & -2.62046 & $\\dots$ \\\\\n",
       "\t11 & 1 & 2001 & ARIZONA STRIP FIELD OFFICE & E Cold Deserts & SW & -2.45044 & $\\dots$ \\\\\n",
       "\t12 & 1 & 2002 & ARIZONA STRIP FIELD OFFICE & E Cold Deserts & SW & -3.97213 & $\\dots$ \\\\\n",
       "\t13 & 1 & 2003 & ARIZONA STRIP FIELD OFFICE & E Cold Deserts & SW & -2.23087 & $\\dots$ \\\\\n",
       "\t14 & 1 & 2004 & ARIZONA STRIP FIELD OFFICE & E Cold Deserts & SW & -1.63387 & $\\dots$ \\\\\n",
       "\t15 & 1 & 2005 & ARIZONA STRIP FIELD OFFICE & E Cold Deserts & SW & -1.95671 & $\\dots$ \\\\\n",
       "\t16 & 1 & 2006 & ARIZONA STRIP FIELD OFFICE & E Cold Deserts & SW & -2.69477 & $\\dots$ \\\\\n",
       "\t17 & 1 & 2007 & ARIZONA STRIP FIELD OFFICE & E Cold Deserts & SW & -2.45769 & $\\dots$ \\\\\n",
       "\t18 & 1 & 2008 & ARIZONA STRIP FIELD OFFICE & E Cold Deserts & SW & -1.5079 & $\\dots$ \\\\\n",
       "\t19 & 1 & 2009 & ARIZONA STRIP FIELD OFFICE & E Cold Deserts & SW & -1.30074 & $\\dots$ \\\\\n",
       "\t20 & 1 & 2010 & ARIZONA STRIP FIELD OFFICE & E Cold Deserts & SW & -1.37543 & $\\dots$ \\\\\n",
       "\t21 & 1 & 2011 & ARIZONA STRIP FIELD OFFICE & E Cold Deserts & SW & -2.21951 & $\\dots$ \\\\\n",
       "\t22 & 1 & 2012 & ARIZONA STRIP FIELD OFFICE & E Cold Deserts & SW & -1.99877 & $\\dots$ \\\\\n",
       "\t23 & 1 & 2013 & ARIZONA STRIP FIELD OFFICE & E Cold Deserts & SW & -0.994676 & $\\dots$ \\\\\n",
       "\t24 & 1 & 2014 & ARIZONA STRIP FIELD OFFICE & E Cold Deserts & SW & -1.75305 & $\\dots$ \\\\\n",
       "\t25 & 1 & 2015 & ARIZONA STRIP FIELD OFFICE & E Cold Deserts & SW & -1.91693 & $\\dots$ \\\\\n",
       "\t26 & 1 & 2016 & ARIZONA STRIP FIELD OFFICE & E Cold Deserts & SW & -1.71158 & $\\dots$ \\\\\n",
       "\t27 & 1 & 2017 & ARIZONA STRIP FIELD OFFICE & E Cold Deserts & SW & -1.56119 & $\\dots$ \\\\\n",
       "\t28 & 1 & 2018 & ARIZONA STRIP FIELD OFFICE & E Cold Deserts & SW & -1.52942 & $\\dots$ \\\\\n",
       "\t29 & 1 & 2019 & ARIZONA STRIP FIELD OFFICE & E Cold Deserts & SW & -1.24355 & $\\dots$ \\\\\n",
       "\t30 & 1 & 2020 & ARIZONA STRIP FIELD OFFICE & E Cold Deserts & SW & -0.794938 & $\\dots$ \\\\\n",
       "\t$\\dots$ & $\\dots$ & $\\dots$ & $\\dots$ & $\\dots$ & $\\dots$ & $\\dots$ &  \\\\\n",
       "\\end{tabular}\n"
      ],
      "text/plain": [
       "\u001b[1m625950×7 DataFrame\u001b[0m\n",
       "\u001b[1m    Row \u001b[0m│\u001b[1m uname \u001b[0m\u001b[1m year  \u001b[0m\u001b[1m office_label               \u001b[0m\u001b[1m ecogroup       \u001b[0m\u001b[1m climate_re\u001b[0m ⋯\n",
       "\u001b[1m        \u001b[0m│\u001b[90m Int64 \u001b[0m\u001b[90m Int64 \u001b[0m\u001b[90m String                     \u001b[0m\u001b[90m String         \u001b[0m\u001b[90m String    \u001b[0m ⋯\n",
       "────────┼───────────────────────────────────────────────────────────────────────\n",
       "      1 │     1   1991  ARIZONA STRIP FIELD OFFICE  E Cold Deserts  SW         ⋯\n",
       "      2 │     1   1992  ARIZONA STRIP FIELD OFFICE  E Cold Deserts  SW\n",
       "      3 │     1   1993  ARIZONA STRIP FIELD OFFICE  E Cold Deserts  SW\n",
       "      4 │     1   1994  ARIZONA STRIP FIELD OFFICE  E Cold Deserts  SW\n",
       "      5 │     1   1995  ARIZONA STRIP FIELD OFFICE  E Cold Deserts  SW         ⋯\n",
       "      6 │     1   1996  ARIZONA STRIP FIELD OFFICE  E Cold Deserts  SW\n",
       "      7 │     1   1997  ARIZONA STRIP FIELD OFFICE  E Cold Deserts  SW\n",
       "      8 │     1   1998  ARIZONA STRIP FIELD OFFICE  E Cold Deserts  SW\n",
       "      9 │     1   1999  ARIZONA STRIP FIELD OFFICE  E Cold Deserts  SW         ⋯\n",
       "     10 │     1   2000  ARIZONA STRIP FIELD OFFICE  E Cold Deserts  SW\n",
       "     11 │     1   2001  ARIZONA STRIP FIELD OFFICE  E Cold Deserts  SW\n",
       "   ⋮    │   ⋮      ⋮                ⋮                     ⋮               ⋮    ⋱\n",
       " 625941 │ 20933   2007  LANDER FIELD OFFICE         E Cold Deserts  NR\n",
       " 625942 │ 20933   2008  LANDER FIELD OFFICE         E Cold Deserts  NR         ⋯\n",
       " 625943 │ 20933   2009  LANDER FIELD OFFICE         E Cold Deserts  NR\n",
       " 625944 │ 20933   2010  LANDER FIELD OFFICE         E Cold Deserts  NR\n",
       " 625945 │ 20933   2011  LANDER FIELD OFFICE         E Cold Deserts  NR\n",
       " 625946 │ 20933   2020  LANDER FIELD OFFICE         E Cold Deserts  NR         ⋯\n",
       " 625947 │ 20933   2019  LANDER FIELD OFFICE         E Cold Deserts  NR\n",
       " 625948 │ 20933   2018  LANDER FIELD OFFICE         E Cold Deserts  NR\n",
       " 625949 │ 20933   2017  LANDER FIELD OFFICE         E Cold Deserts  NR\n",
       " 625950 │ 20933   2016  LANDER FIELD OFFICE         E Cold Deserts  NR         ⋯\n",
       "\u001b[36m                                               3 columns and 625929 rows omitted\u001b[0m"
      ]
     },
     "execution_count": 6,
     "metadata": {},
     "output_type": "execute_result"
    }
   ],
   "source": [
    "df2 = df[:, [2,3,7,8,9,11,13]]"
   ]
  },
  {
   "cell_type": "code",
   "execution_count": 7,
   "metadata": {},
   "outputs": [
    {
     "data": {
      "text/plain": [
       "625950-element Vector{String}:\n",
       " \"1\"\n",
       " \"1\"\n",
       " \"1\"\n",
       " \"1\"\n",
       " \"1\"\n",
       " \"1\"\n",
       " \"1\"\n",
       " \"1\"\n",
       " \"1\"\n",
       " \"1\"\n",
       " \"1\"\n",
       " \"1\"\n",
       " \"1\"\n",
       " ⋮\n",
       " \"20933\"\n",
       " \"20933\"\n",
       " \"20933\"\n",
       " \"20933\"\n",
       " \"20933\"\n",
       " \"20933\"\n",
       " \"20933\"\n",
       " \"20933\"\n",
       " \"20933\"\n",
       " \"20933\"\n",
       " \"20933\"\n",
       " \"20933\""
      ]
     },
     "execution_count": 7,
     "metadata": {},
     "output_type": "execute_result"
    }
   ],
   "source": [
    "df2[!,:uname] = string.(df2[:,:uname])"
   ]
  },
  {
   "cell_type": "code",
   "execution_count": 8,
   "metadata": {},
   "outputs": [
    {
     "data": {
      "text/plain": [
       "625950-element Vector{String}:\n",
       " \"1991\"\n",
       " \"1992\"\n",
       " \"1993\"\n",
       " \"1994\"\n",
       " \"1995\"\n",
       " \"1996\"\n",
       " \"1997\"\n",
       " \"1998\"\n",
       " \"1999\"\n",
       " \"2000\"\n",
       " \"2001\"\n",
       " \"2002\"\n",
       " \"2003\"\n",
       " ⋮\n",
       " \"2005\"\n",
       " \"2006\"\n",
       " \"2007\"\n",
       " \"2008\"\n",
       " \"2009\"\n",
       " \"2010\"\n",
       " \"2011\"\n",
       " \"2020\"\n",
       " \"2019\"\n",
       " \"2018\"\n",
       " \"2017\"\n",
       " \"2016\""
      ]
     },
     "execution_count": 8,
     "metadata": {},
     "output_type": "execute_result"
    }
   ],
   "source": [
    "df2[!,:year] = string.(df2[:,:year])"
   ]
  },
  {
   "cell_type": "code",
   "execution_count": 9,
   "metadata": {},
   "outputs": [
    {
     "data": {
      "text/plain": [
       "625950-element CategoricalArray{String,1,UInt32}:\n",
       " \"1991\"\n",
       " \"1992\"\n",
       " \"1993\"\n",
       " \"1994\"\n",
       " \"1995\"\n",
       " \"1996\"\n",
       " \"1997\"\n",
       " \"1998\"\n",
       " \"1999\"\n",
       " \"2000\"\n",
       " \"2001\"\n",
       " \"2002\"\n",
       " \"2003\"\n",
       " ⋮\n",
       " \"2005\"\n",
       " \"2006\"\n",
       " \"2007\"\n",
       " \"2008\"\n",
       " \"2009\"\n",
       " \"2010\"\n",
       " \"2011\"\n",
       " \"2020\"\n",
       " \"2019\"\n",
       " \"2018\"\n",
       " \"2017\"\n",
       " \"2016\""
      ]
     },
     "execution_count": 9,
     "metadata": {},
     "output_type": "execute_result"
    }
   ],
   "source": [
    "df2[!,:year] = CategoricalArray(df2[:,:year])"
   ]
  },
  {
   "cell_type": "code",
   "execution_count": 10,
   "metadata": {},
   "outputs": [
    {
     "data": {
      "text/plain": [
       "625950-element CategoricalArray{String,1,UInt32}:\n",
       " \"1\"\n",
       " \"1\"\n",
       " \"1\"\n",
       " \"1\"\n",
       " \"1\"\n",
       " \"1\"\n",
       " \"1\"\n",
       " \"1\"\n",
       " \"1\"\n",
       " \"1\"\n",
       " \"1\"\n",
       " \"1\"\n",
       " \"1\"\n",
       " ⋮\n",
       " \"20933\"\n",
       " \"20933\"\n",
       " \"20933\"\n",
       " \"20933\"\n",
       " \"20933\"\n",
       " \"20933\"\n",
       " \"20933\"\n",
       " \"20933\"\n",
       " \"20933\"\n",
       " \"20933\"\n",
       " \"20933\"\n",
       " \"20933\""
      ]
     },
     "execution_count": 10,
     "metadata": {},
     "output_type": "execute_result"
    }
   ],
   "source": [
    "df2[!,:uname] = CategoricalArray(df2[:,:uname])"
   ]
  },
  {
   "cell_type": "code",
   "execution_count": 42,
   "metadata": {},
   "outputs": [
    {
     "data": {
      "text/plain": [
       "FormulaTerm\n",
       "Response:\n",
       "  value2(unknown)\n",
       "Predictors:\n",
       "  1\n",
       "  year2(unknown)\n",
       "  ecogroup(unknown)\n",
       "  (year2,uname)->(1 + year2) | uname\n",
       "  (year,climate_region)->1 | year & climate_region\n",
       "  year2(unknown) & ecogroup(unknown)"
      ]
     },
     "execution_count": 42,
     "metadata": {},
     "output_type": "execute_result"
    }
   ],
   "source": [
    "fm0 = @formula(value2 ~ 1 + (1 + year2|office_label) + (1 + year2|uname) + (1|year&climate_region))\n",
    "fm1 = @formula(value2 ~ 1 + year2 + (1 + year2|office_label) + (1 + year2|uname) + (1|year&climate_region))\n",
    "fm2 = @formula(value2 ~ 1 + year2 + ecogroup + (1 + year2|office_label) + (1 + year2|uname) + (1|year&climate_region))\n",
    "\n",
    "# Full Model\n",
    "fm3 = @formula(value2 ~ 1 + year2*ecogroup + (1 + year2|office_label) + (1 + year2|uname) + (1|year&climate_region))\n",
    "\n",
    "# Drop year effects \n",
    "fm4 = @formula(value2 ~ 1 + year2*ecogroup + (1 + year2|office_label) + (1 + year2|uname) ) \n",
    "\n",
    "## Drop uname slope and then intercept \n",
    "fm5 = @formula(value2 ~ 1 + year2*ecogroup + (1 + year2|office_label) + (1|uname) + (1|year&climate_region)) \n",
    "fm6 = @formula(value2 ~ 1 + year2*ecogroup + (1 + year2|office_label) + (1|year&climate_region)) \n",
    "\n",
    "## Drop office slope and then intercept \n",
    "fm7 = @formula(value2 ~ 1 + year2*ecogroup + (1 + year2|uname) + (1|office_label) + (1|year&climate_region)) \n",
    "fm8 = @formula(value2 ~ 1 + year2*ecogroup + (1 + year2|uname) + (1|year&climate_region)) \n",
    "\n",
    "\n",
    "\n"
   ]
  },
  {
   "cell_type": "code",
   "execution_count": null,
   "metadata": {},
   "outputs": [],
   "source": [
    "m0 = fit(MixedModel, fm0, df2, REML = false)\n",
    "m1 = fit(MixedModel, fm1, df2, REML = false)\n",
    "m2 = fit(MixedModel, fm2, df2, REML = false)\n",
    "m3 = fit(MixedModel, fm3, df2, REML = false)\n"
   ]
  },
  {
   "cell_type": "code",
   "execution_count": 43,
   "metadata": {},
   "outputs": [
    {
     "data": {
      "text/latex": [
       "\\begin{tabular}\n",
       "{l | r | r | r | r | r | r}\n",
       " & Est. & SE & z & p & $\\sigma_\\text{uname}$ & $\\sigma_\\text{year}$ \\& climate\\_region \\\\\n",
       "\\hline\n",
       "(Intercept) & -0.1096 & 0.0591 & -1.86 & 0.0635 & 0.6182 & 0.5702 \\\\\n",
       "year2 & 0.0517 & 0.0523 & 0.99 & 0.3227 & 0.1013 &   \\\\\n",
       "ecogroup: E Cold Deserts & -0.5218 & 0.0283 & -18.44 & <1e-75 &   &   \\\\\n",
       "ecogroup: Great Plains & 0.5592 & 0.0296 & 18.91 & <1e-78 &   &   \\\\\n",
       "ecogroup: Mediterranean California & -0.4671 & 0.0547 & -8.54 & <1e-16 &   &   \\\\\n",
       "ecogroup: NW Forested Mts & 0.0534 & 0.0289 & 1.85 & 0.0645 &   &   \\\\\n",
       "ecogroup: W Cold Deserts & -0.4696 & 0.0313 & -14.98 & <1e-50 &   &   \\\\\n",
       "ecogroup: Warm Deserts & -0.7644 & 0.0321 & -23.82 & <1e-99 &   &   \\\\\n",
       "year2 \\& ecogroup: E Cold Deserts & -0.0582 & 0.0051 & -11.34 & <1e-29 &   &   \\\\\n",
       "year2 \\& ecogroup: Great Plains & -0.0290 & 0.0054 & -5.40 & <1e-07 &   &   \\\\\n",
       "year2 \\& ecogroup: Mediterranean California & -0.4184 & 0.0099 & -42.09 & <1e-99 &   &   \\\\\n",
       "year2 \\& ecogroup: NW Forested Mts & -0.0689 & 0.0052 & -13.14 & <1e-38 &   &   \\\\\n",
       "year2 \\& ecogroup: W Cold Deserts & -0.0479 & 0.0057 & -8.40 & <1e-16 &   &   \\\\\n",
       "year2 \\& ecogroup: Warm Deserts & -0.0798 & 0.0058 & -13.71 & <1e-42 &   &   \\\\\n",
       "Residual & 0.2686 &  &  &  &  &  \\\\\n",
       "\\end{tabular}\n"
      ],
      "text/markdown": [
       "|                                            |    Est. |     SE |      z |      p | σ_uname | σ_year & climate_region |\n",
       "|:------------------------------------------ | -------:| ------:| ------:| ------:| -------:| -----------------------:|\n",
       "| (Intercept)                                | -0.1096 | 0.0591 |  -1.86 | 0.0635 |  0.6182 |                  0.5702 |\n",
       "| year2                                      |  0.0517 | 0.0523 |   0.99 | 0.3227 |  0.1013 |                         |\n",
       "| ecogroup: E Cold Deserts                   | -0.5218 | 0.0283 | -18.44 | <1e-75 |         |                         |\n",
       "| ecogroup: Great Plains                     |  0.5592 | 0.0296 |  18.91 | <1e-78 |         |                         |\n",
       "| ecogroup: Mediterranean California         | -0.4671 | 0.0547 |  -8.54 | <1e-16 |         |                         |\n",
       "| ecogroup: NW Forested Mts                  |  0.0534 | 0.0289 |   1.85 | 0.0645 |         |                         |\n",
       "| ecogroup: W Cold Deserts                   | -0.4696 | 0.0313 | -14.98 | <1e-50 |         |                         |\n",
       "| ecogroup: Warm Deserts                     | -0.7644 | 0.0321 | -23.82 | <1e-99 |         |                         |\n",
       "| year2 & ecogroup: E Cold Deserts           | -0.0582 | 0.0051 | -11.34 | <1e-29 |         |                         |\n",
       "| year2 & ecogroup: Great Plains             | -0.0290 | 0.0054 |  -5.40 | <1e-07 |         |                         |\n",
       "| year2 & ecogroup: Mediterranean California | -0.4184 | 0.0099 | -42.09 | <1e-99 |         |                         |\n",
       "| year2 & ecogroup: NW Forested Mts          | -0.0689 | 0.0052 | -13.14 | <1e-38 |         |                         |\n",
       "| year2 & ecogroup: W Cold Deserts           | -0.0479 | 0.0057 |  -8.40 | <1e-16 |         |                         |\n",
       "| year2 & ecogroup: Warm Deserts             | -0.0798 | 0.0058 | -13.71 | <1e-42 |         |                         |\n",
       "| Residual                                   |  0.2686 |        |        |        |         |                         |\n"
      ],
      "text/plain": [
       "Linear mixed model fit by maximum likelihood\n",
       " value2 ~ 1 + year2 + ecogroup + year2 & ecogroup + (1 + year2 | uname) + (1 | year & climate_region)\n",
       "    logLik     -2 logLik       AIC         AICc          BIC     \n",
       " -136024.2633  272048.5266  272086.5266  272086.5278  272302.1200\n",
       "\n",
       "Variance components:\n",
       "                         Column   Variance Std.Dev.   Corr.\n",
       "uname                 (Intercept)  0.382210 0.618231\n",
       "                      year2        0.010252 0.101251 +0.11\n",
       "year & climate_region (Intercept)  0.325093 0.570169\n",
       "Residual                           0.072129 0.268569\n",
       " Number of obs: 625950; levels of grouping factors: 20865, 120\n",
       "\n",
       "  Fixed-effects parameters:\n",
       "────────────────────────────────────────────────────────────────────────────────────\n",
       "                                                 Coef.  Std. Error       z  Pr(>|z|)\n",
       "────────────────────────────────────────────────────────────────────────────────────\n",
       "(Intercept)                                 -0.109645   0.0590801    -1.86    0.0635\n",
       "year2                                        0.0517166  0.0522961     0.99    0.3227\n",
       "ecogroup: E Cold Deserts                    -0.521763   0.0282893   -18.44    <1e-75\n",
       "ecogroup: Great Plains                       0.559193   0.0295775    18.91    <1e-78\n",
       "ecogroup: Mediterranean California          -0.467122   0.054667     -8.54    <1e-16\n",
       "ecogroup: NW Forested Mts                    0.0533999  0.0288855     1.85    0.0645\n",
       "ecogroup: W Cold Deserts                    -0.46956    0.0313405   -14.98    <1e-50\n",
       "ecogroup: Warm Deserts                      -0.764372   0.0320946   -23.82    <1e-99\n",
       "year2 & ecogroup: E Cold Deserts            -0.058177   0.00513234  -11.34    <1e-29\n",
       "year2 & ecogroup: Great Plains              -0.0289838  0.00536806   -5.40    <1e-07\n",
       "year2 & ecogroup: Mediterranean California  -0.418391   0.00994145  -42.09    <1e-99\n",
       "year2 & ecogroup: NW Forested Mts           -0.068864   0.00524232  -13.14    <1e-38\n",
       "year2 & ecogroup: W Cold Deserts            -0.0478647  0.00569571   -8.40    <1e-16\n",
       "year2 & ecogroup: Warm Deserts              -0.079823   0.00582204  -13.71    <1e-42\n",
       "────────────────────────────────────────────────────────────────────────────────────"
      ]
     },
     "execution_count": 43,
     "metadata": {},
     "output_type": "execute_result"
    }
   ],
   "source": [
    "m3REML = fit(MixedModel, fm3, df2)\n",
    "m4 = fit(MixedModel, fm4, df2)\n",
    "m5 = fit(MixedModel, fm5, df2)\n",
    "m6 = fit(MixedModel, fm6, df2)\n",
    "\n",
    "m7 = fit(MixedModel, fm7, df2)\n",
    "m8 = fit(MixedModel, fm8, df2)\n"
   ]
  },
  {
   "cell_type": "code",
   "execution_count": 44,
   "metadata": {},
   "outputs": [
    {
     "data": {
      "text/latex": [
       "\\begin{tabular}\n",
       "{l | l | r | r | r}\n",
       "  & Column &  Variance & Std.Dev & Corr. \\\\\n",
       "\\hline\n",
       "uname & (Intercept) & 0.1992732 & 0.4464003 &   \\\\\n",
       "  & year2 & 0.0069635 & 0.0834478 & +0.19 \\\\\n",
       "office\\_label & (Intercept) & 1.1373913 & 1.0664855 &   \\\\\n",
       "  & year2 & 0.0099174 & 0.0995864 & +0.35 \\\\\n",
       "year \\& climate\\_region & (Intercept) & 0.0298184 & 0.1726801 &   \\\\\n",
       "Residual &   & 0.0721295 & 0.2685693 &   \\\\\n",
       "\\end{tabular}\n"
      ],
      "text/markdown": [
       "|                       | Column      |  Variance |   Std.Dev | Corr. |\n",
       "|:--------------------- |:----------- | ---------:| ---------:| -----:|\n",
       "| uname                 | (Intercept) | 0.1992732 | 0.4464003 |       |\n",
       "|                       | year2       | 0.0069635 | 0.0834478 | +0.19 |\n",
       "| office_label          | (Intercept) | 1.1373913 | 1.0664855 |       |\n",
       "|                       | year2       | 0.0099174 | 0.0995864 | +0.35 |\n",
       "| year & climate_region | (Intercept) | 0.0298184 | 0.1726801 |       |\n",
       "| Residual              |             | 0.0721295 | 0.2685693 |       |\n"
      ],
      "text/plain": [
       "Variance components:\n",
       "                         Column    Variance  Std.Dev.   Corr.\n",
       "uname                 (Intercept)  0.1992732 0.4464003\n",
       "                      year2        0.0069635 0.0834478 +0.19\n",
       "office_label          (Intercept)  1.1373913 1.0664855\n",
       "                      year2        0.0099174 0.0995864 +0.35\n",
       "year & climate_region (Intercept)  0.0298184 0.1726801\n",
       "Residual                           0.0721295 0.2685693\n"
      ]
     },
     "execution_count": 44,
     "metadata": {},
     "output_type": "execute_result"
    }
   ],
   "source": [
    "VarCorr(m3REML) # Full model\n"
   ]
  },
  {
   "cell_type": "code",
   "execution_count": 45,
   "metadata": {},
   "outputs": [
    {
     "data": {
      "text/latex": [
       "\\begin{tabular}\n",
       "{l | l | r | r | r}\n",
       "  & Column &  Variance & Std.Dev & Corr. \\\\\n",
       "\\hline\n",
       "uname & (Intercept) & 0.1984807 & 0.4455117 &   \\\\\n",
       "  & year2 & 0.0061549 & 0.0784529 & +0.20 \\\\\n",
       "office\\_label & (Intercept) & 1.1587321 & 1.0764442 &   \\\\\n",
       "  & year2 & 0.0139532 & 0.1181236 & +0.23 \\\\\n",
       "Residual &   & 0.0963629 & 0.3104237 &   \\\\\n",
       "\\end{tabular}\n"
      ],
      "text/markdown": [
       "|              | Column      |  Variance |   Std.Dev | Corr. |\n",
       "|:------------ |:----------- | ---------:| ---------:| -----:|\n",
       "| uname        | (Intercept) | 0.1984807 | 0.4455117 |       |\n",
       "|              | year2       | 0.0061549 | 0.0784529 | +0.20 |\n",
       "| office_label | (Intercept) | 1.1587321 | 1.0764442 |       |\n",
       "|              | year2       | 0.0139532 | 0.1181236 | +0.23 |\n",
       "| Residual     |             | 0.0963629 | 0.3104237 |       |\n"
      ],
      "text/plain": [
       "Variance components:\n",
       "                Column    Variance  Std.Dev.   Corr.\n",
       "uname        (Intercept)  0.1984807 0.4455117\n",
       "             year2        0.0061549 0.0784529 +0.20\n",
       "office_label (Intercept)  1.1587321 1.0764442\n",
       "             year2        0.0139532 0.1181236 +0.23\n",
       "Residual                  0.0963629 0.3104237\n"
      ]
     },
     "execution_count": 45,
     "metadata": {},
     "output_type": "execute_result"
    }
   ],
   "source": [
    "VarCorr(m4) # drop year effect"
   ]
  },
  {
   "cell_type": "code",
   "execution_count": 46,
   "metadata": {},
   "outputs": [
    {
     "data": {
      "text/latex": [
       "\\begin{tabular}\n",
       "{l | l | r | r | r}\n",
       "  & Column &  Variance & Std.Dev & Corr. \\\\\n",
       "\\hline\n",
       "uname & (Intercept) & 0.199045 & 0.446145 &   \\\\\n",
       "office\\_label & (Intercept) & 1.140717 & 1.068043 &   \\\\\n",
       "  & year2 & 0.010940 & 0.104595 & +0.37 \\\\\n",
       "year \\& climate\\_region & (Intercept) & 0.029892 & 0.172894 &   \\\\\n",
       "Residual &   & 0.079296 & 0.281596 &   \\\\\n",
       "\\end{tabular}\n"
      ],
      "text/markdown": [
       "|                       | Column      |  Variance |  Std.Dev | Corr. |\n",
       "|:--------------------- |:----------- | ---------:| --------:| -----:|\n",
       "| uname                 | (Intercept) |  0.199045 | 0.446145 |       |\n",
       "| office_label          | (Intercept) |  1.140717 | 1.068043 |       |\n",
       "|                       | year2       |  0.010940 | 0.104595 | +0.37 |\n",
       "| year & climate_region | (Intercept) |  0.029892 | 0.172894 |       |\n",
       "| Residual              |             |  0.079296 | 0.281596 |       |\n"
      ],
      "text/plain": [
       "Variance components:\n",
       "                         Column   Variance Std.Dev.   Corr.\n",
       "uname                 (Intercept)  0.199045 0.446145\n",
       "office_label          (Intercept)  1.140717 1.068043\n",
       "                      year2        0.010940 0.104595 +0.37\n",
       "year & climate_region (Intercept)  0.029892 0.172894\n",
       "Residual                           0.079296 0.281596\n"
      ]
     },
     "execution_count": 46,
     "metadata": {},
     "output_type": "execute_result"
    }
   ],
   "source": [
    "VarCorr(m5) # drop allotment slope "
   ]
  },
  {
   "cell_type": "code",
   "execution_count": 47,
   "metadata": {},
   "outputs": [
    {
     "data": {
      "text/latex": [
       "\\begin{tabular}\n",
       "{l | l | r | r | r}\n",
       "  & Column &  Variance & Std.Dev & Corr. \\\\\n",
       "\\hline\n",
       "office\\_label & (Intercept) & 1.1684152 & 1.0809326 &   \\\\\n",
       "  & year2 & 0.0099844 & 0.0999222 & +0.36 \\\\\n",
       "year \\& climate\\_region & (Intercept) & 0.0297534 & 0.1724917 &   \\\\\n",
       "Residual &   & 0.2774160 & 0.5267030 &   \\\\\n",
       "\\end{tabular}\n"
      ],
      "text/markdown": [
       "|                       | Column      |  Variance |   Std.Dev | Corr. |\n",
       "|:--------------------- |:----------- | ---------:| ---------:| -----:|\n",
       "| office_label          | (Intercept) | 1.1684152 | 1.0809326 |       |\n",
       "|                       | year2       | 0.0099844 | 0.0999222 | +0.36 |\n",
       "| year & climate_region | (Intercept) | 0.0297534 | 0.1724917 |       |\n",
       "| Residual              |             | 0.2774160 | 0.5267030 |       |\n"
      ],
      "text/plain": [
       "Variance components:\n",
       "                         Column    Variance  Std.Dev.   Corr.\n",
       "office_label          (Intercept)  1.1684152 1.0809326\n",
       "                      year2        0.0099844 0.0999222 +0.36\n",
       "year & climate_region (Intercept)  0.0297534 0.1724917\n",
       "Residual                           0.2774160 0.5267030\n"
      ]
     },
     "execution_count": 47,
     "metadata": {},
     "output_type": "execute_result"
    }
   ],
   "source": [
    "VarCorr(m6) # drop allotment Intercept"
   ]
  },
  {
   "cell_type": "code",
   "execution_count": 48,
   "metadata": {},
   "outputs": [
    {
     "data": {
      "text/latex": [
       "\\begin{tabular}\n",
       "{l | l | r | r | r}\n",
       "  & Column &  Variance & Std.Dev & Corr. \\\\\n",
       "\\hline\n",
       "uname & (Intercept) & 0.201179 & 0.448530 &   \\\\\n",
       "  & year2 & 0.010252 & 0.101252 & +0.21 \\\\\n",
       "year \\& climate\\_region & (Intercept) & 0.029365 & 0.171363 &   \\\\\n",
       "office\\_label & (Intercept) & 1.110483 & 1.053794 &   \\\\\n",
       "Residual &   & 0.072129 & 0.268569 &   \\\\\n",
       "\\end{tabular}\n"
      ],
      "text/markdown": [
       "|                       | Column      |  Variance |  Std.Dev | Corr. |\n",
       "|:--------------------- |:----------- | ---------:| --------:| -----:|\n",
       "| uname                 | (Intercept) |  0.201179 | 0.448530 |       |\n",
       "|                       | year2       |  0.010252 | 0.101252 | +0.21 |\n",
       "| year & climate_region | (Intercept) |  0.029365 | 0.171363 |       |\n",
       "| office_label          | (Intercept) |  1.110483 | 1.053794 |       |\n",
       "| Residual              |             |  0.072129 | 0.268569 |       |\n"
      ],
      "text/plain": [
       "Variance components:\n",
       "                         Column   Variance Std.Dev.   Corr.\n",
       "uname                 (Intercept)  0.201179 0.448530\n",
       "                      year2        0.010252 0.101252 +0.21\n",
       "year & climate_region (Intercept)  0.029365 0.171363\n",
       "office_label          (Intercept)  1.110483 1.053794\n",
       "Residual                           0.072129 0.268569\n"
      ]
     },
     "execution_count": 48,
     "metadata": {},
     "output_type": "execute_result"
    }
   ],
   "source": [
    "VarCorr(m7) # drop office slope "
   ]
  },
  {
   "cell_type": "code",
   "execution_count": 49,
   "metadata": {},
   "outputs": [
    {
     "data": {
      "text/latex": [
       "\\begin{tabular}\n",
       "{l | l | r | r | r}\n",
       "  & Column &  Variance & Std.Dev & Corr. \\\\\n",
       "\\hline\n",
       "uname & (Intercept) & 0.382210 & 0.618231 &   \\\\\n",
       "  & year2 & 0.010252 & 0.101251 & +0.11 \\\\\n",
       "year \\& climate\\_region & (Intercept) & 0.325093 & 0.570169 &   \\\\\n",
       "Residual &   & 0.072129 & 0.268569 &   \\\\\n",
       "\\end{tabular}\n"
      ],
      "text/markdown": [
       "|                       | Column      |  Variance |  Std.Dev | Corr. |\n",
       "|:--------------------- |:----------- | ---------:| --------:| -----:|\n",
       "| uname                 | (Intercept) |  0.382210 | 0.618231 |       |\n",
       "|                       | year2       |  0.010252 | 0.101251 | +0.11 |\n",
       "| year & climate_region | (Intercept) |  0.325093 | 0.570169 |       |\n",
       "| Residual              |             |  0.072129 | 0.268569 |       |\n"
      ],
      "text/plain": [
       "Variance components:\n",
       "                         Column   Variance Std.Dev.   Corr.\n",
       "uname                 (Intercept)  0.382210 0.618231\n",
       "                      year2        0.010252 0.101251 +0.11\n",
       "year & climate_region (Intercept)  0.325093 0.570169\n",
       "Residual                           0.072129 0.268569\n"
      ]
     },
     "execution_count": 49,
     "metadata": {},
     "output_type": "execute_result"
    }
   ],
   "source": [
    "VarCorr(m8) # drop office intercept"
   ]
  },
  {
   "cell_type": "code",
   "execution_count": 41,
   "metadata": {},
   "outputs": [
    {
     "data": {
      "text/plain": [
       "\"LinearMixedModel{Float64}\""
      ]
     },
     "execution_count": 41,
     "metadata": {},
     "output_type": "execute_result"
    }
   ],
   "source": [
    "summary(m8)"
   ]
  },
  {
   "cell_type": "code",
   "execution_count": null,
   "metadata": {},
   "outputs": [],
   "source": []
  }
 ],
 "metadata": {
  "kernelspec": {
   "display_name": "Julia 1.6.1",
   "language": "julia",
   "name": "julia-1.6"
  },
  "language_info": {
   "file_extension": ".jl",
   "mimetype": "application/julia",
   "name": "julia",
   "version": "1.6.1"
  }
 },
 "nbformat": 4,
 "nbformat_minor": 4
}
