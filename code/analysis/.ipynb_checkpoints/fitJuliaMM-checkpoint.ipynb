{
 "cells": [
  {
   "cell_type": "code",
   "execution_count": 2,
   "metadata": {},
   "outputs": [
    {
     "name": "stderr",
     "output_type": "stream",
     "text": [
      "┌ Info: Precompiling MixedModels [ff71e718-51f3-5ec2-a782-8ffcbfa3c316]\n",
      "└ @ Base loading.jl:1342\n",
      "\u001b[91m\u001b[1mERROR: \u001b[22m\u001b[39mLoadError: InitError: Artifact \"OpenSpecFun\" was not installed correctly. Try `using Pkg; Pkg.instantiate()` to re-install all missing resources.\n",
      "Stacktrace:\n",
      "  [1] \u001b[0m\u001b[1merror\u001b[22m\u001b[0m\u001b[1m(\u001b[22m\u001b[90ms\u001b[39m::\u001b[0mString\u001b[0m\u001b[1m)\u001b[22m\n",
      "\u001b[90m    @ \u001b[39m\u001b[90mBase\u001b[39m \u001b[90m./\u001b[39m\u001b[90;4merror.jl:33\u001b[0m\n",
      "  [2] \u001b[0m\u001b[1m_artifact_str\u001b[22m\u001b[0m\u001b[1m(\u001b[22m\u001b[90m__module__\u001b[39m::\u001b[0mModule, \u001b[90martifacts_toml\u001b[39m::\u001b[0mString, \u001b[90mname\u001b[39m::\u001b[0mSubString\u001b[90m{String}\u001b[39m, \u001b[90mpath_tail\u001b[39m::\u001b[0mString, \u001b[90martifact_dict\u001b[39m::\u001b[0mDict\u001b[90m{String, Any}\u001b[39m, \u001b[90mhash\u001b[39m::\u001b[0mBase.SHA1, \u001b[90mplatform\u001b[39m::\u001b[0mBase.BinaryPlatforms.Platform, \u001b[90mlazyartifacts\u001b[39m::\u001b[0mAny\u001b[0m\u001b[1m)\u001b[22m\n",
      "\u001b[90m    @ \u001b[39m\u001b[35mArtifacts\u001b[39m \u001b[90m/Users/julia/buildbot/worker/package_macos64/build/usr/share/julia/stdlib/v1.6/Artifacts/src/\u001b[39m\u001b[90;4mArtifacts.jl:551\u001b[0m\n",
      "  [3] \u001b[0m\u001b[1minvokelatest\u001b[22m\u001b[0m\u001b[1m(\u001b[22m::\u001b[0mAny, ::\u001b[0mAny, ::\u001b[0mVararg\u001b[90m{Any, N} where N\u001b[39m; \u001b[90mkwargs\u001b[39m::\u001b[0mBase.Iterators.Pairs\u001b[90m{Union{}, Union{}, Tuple{}, NamedTuple{(), Tuple{}}}\u001b[39m\u001b[0m\u001b[1m)\u001b[22m\n",
      "\u001b[90m    @ \u001b[39m\u001b[90mBase\u001b[39m \u001b[90m./\u001b[39m\u001b[90;4messentials.jl:708\u001b[0m\n",
      "  [4] \u001b[0m\u001b[1minvokelatest\u001b[22m\u001b[0m\u001b[1m(\u001b[22m::\u001b[0mAny, ::\u001b[0mAny, ::\u001b[0mVararg\u001b[90m{Any, N} where N\u001b[39m\u001b[0m\u001b[1m)\u001b[22m\n",
      "\u001b[90m    @ \u001b[39m\u001b[90mBase\u001b[39m \u001b[90m./\u001b[39m\u001b[90;4messentials.jl:706\u001b[0m\n",
      "  [5] \u001b[0m\u001b[1mmacro expansion\u001b[22m\n",
      "\u001b[90m    @ \u001b[39m\u001b[90m/Users/julia/buildbot/worker/package_macos64/build/usr/share/julia/stdlib/v1.6/Artifacts/src/\u001b[39m\u001b[90;4mArtifacts.jl:680\u001b[0m\u001b[90m [inlined]\u001b[39m\n",
      "  [6] \u001b[0m\u001b[1mfind_artifact_dir\u001b[22m\u001b[0m\u001b[1m(\u001b[22m\u001b[0m\u001b[1m)\u001b[22m\n",
      "\u001b[90m    @ \u001b[39m\u001b[36mOpenSpecFun_jll\u001b[39m \u001b[90m~/.julia/packages/JLLWrappers/bkwIo/src/\u001b[39m\u001b[90;4mwrapper_generators.jl:15\u001b[0m\n",
      "  [7] \u001b[0m\u001b[1m__init__\u001b[22m\u001b[0m\u001b[1m(\u001b[22m\u001b[0m\u001b[1m)\u001b[22m\n",
      "\u001b[90m    @ \u001b[39m\u001b[36mOpenSpecFun_jll\u001b[39m \u001b[90m~/.julia/packages/OpenSpecFun_jll/1Zaof/src/wrappers/\u001b[39m\u001b[90;4mx86_64-apple-darwin-libgfortran4.jl:8\u001b[0m\n",
      "  [8] \u001b[0m\u001b[1m_include_from_serialized\u001b[22m\u001b[0m\u001b[1m(\u001b[22m\u001b[90mpath\u001b[39m::\u001b[0mString, \u001b[90mdepmods\u001b[39m::\u001b[0mVector\u001b[90m{Any}\u001b[39m\u001b[0m\u001b[1m)\u001b[22m\n",
      "\u001b[90m    @ \u001b[39m\u001b[90mBase\u001b[39m \u001b[90m./\u001b[39m\u001b[90;4mloading.jl:696\u001b[0m\n",
      "  [9] \u001b[0m\u001b[1m_require_search_from_serialized\u001b[22m\u001b[0m\u001b[1m(\u001b[22m\u001b[90mpkg\u001b[39m::\u001b[0mBase.PkgId, \u001b[90msourcepath\u001b[39m::\u001b[0mString\u001b[0m\u001b[1m)\u001b[22m\n",
      "\u001b[90m    @ \u001b[39m\u001b[90mBase\u001b[39m \u001b[90m./\u001b[39m\u001b[90;4mloading.jl:782\u001b[0m\n",
      " [10] \u001b[0m\u001b[1m_require\u001b[22m\u001b[0m\u001b[1m(\u001b[22m\u001b[90mpkg\u001b[39m::\u001b[0mBase.PkgId\u001b[0m\u001b[1m)\u001b[22m\n",
      "\u001b[90m    @ \u001b[39m\u001b[90mBase\u001b[39m \u001b[90m./\u001b[39m\u001b[90;4mloading.jl:1020\u001b[0m\n",
      " [11] \u001b[0m\u001b[1mrequire\u001b[22m\u001b[0m\u001b[1m(\u001b[22m\u001b[90muuidkey\u001b[39m::\u001b[0mBase.PkgId\u001b[0m\u001b[1m)\u001b[22m\n",
      "\u001b[90m    @ \u001b[39m\u001b[90mBase\u001b[39m \u001b[90m./\u001b[39m\u001b[90;4mloading.jl:936\u001b[0m\n",
      " [12] \u001b[0m\u001b[1mrequire\u001b[22m\u001b[0m\u001b[1m(\u001b[22m\u001b[90minto\u001b[39m::\u001b[0mModule, \u001b[90mmod\u001b[39m::\u001b[0mSymbol\u001b[0m\u001b[1m)\u001b[22m\n",
      "\u001b[90m    @ \u001b[39m\u001b[90mBase\u001b[39m \u001b[90m./\u001b[39m\u001b[90;4mloading.jl:923\u001b[0m\n",
      " [13] \u001b[0m\u001b[1minclude\u001b[22m\n",
      "\u001b[90m    @ \u001b[39m\u001b[90m./\u001b[39m\u001b[90;4mBase.jl:386\u001b[0m\u001b[90m [inlined]\u001b[39m\n",
      " [14] \u001b[0m\u001b[1minclude_package_for_output\u001b[22m\u001b[0m\u001b[1m(\u001b[22m\u001b[90mpkg\u001b[39m::\u001b[0mBase.PkgId, \u001b[90minput\u001b[39m::\u001b[0mString, \u001b[90mdepot_path\u001b[39m::\u001b[0mVector\u001b[90m{String}\u001b[39m, \u001b[90mdl_load_path\u001b[39m::\u001b[0mVector\u001b[90m{String}\u001b[39m, \u001b[90mload_path\u001b[39m::\u001b[0mVector\u001b[90m{String}\u001b[39m, \u001b[90mconcrete_deps\u001b[39m::\u001b[0mVector\u001b[90m{Pair{Base.PkgId, UInt64}}\u001b[39m, \u001b[90msource\u001b[39m::\u001b[0mString\u001b[0m\u001b[1m)\u001b[22m\n",
      "\u001b[90m    @ \u001b[39m\u001b[90mBase\u001b[39m \u001b[90m./\u001b[39m\u001b[90;4mloading.jl:1235\u001b[0m\n",
      " [15] top-level scope\n",
      "\u001b[90m    @ \u001b[39m\u001b[90;4mnone:1\u001b[0m\n",
      " [16] \u001b[0m\u001b[1meval\u001b[22m\n",
      "\u001b[90m    @ \u001b[39m\u001b[90m./\u001b[39m\u001b[90;4mboot.jl:360\u001b[0m\u001b[90m [inlined]\u001b[39m\n",
      " [17] \u001b[0m\u001b[1meval\u001b[22m\u001b[0m\u001b[1m(\u001b[22m\u001b[90mx\u001b[39m::\u001b[0mExpr\u001b[0m\u001b[1m)\u001b[22m\n",
      "\u001b[90m    @ \u001b[39m\u001b[90mBase.MainInclude\u001b[39m \u001b[90m./\u001b[39m\u001b[90;4mclient.jl:446\u001b[0m\n",
      " [18] top-level scope\n",
      "\u001b[90m    @ \u001b[39m\u001b[90;4mnone:1\u001b[0m\n",
      "during initialization of module OpenSpecFun_jll\n",
      "in expression starting at /Users/andy/.julia/packages/SpecialFunctions/Bm58S/src/SpecialFunctions.jl:1\n",
      "\u001b[91m\u001b[1mERROR: \u001b[22m\u001b[39mLoadError: Failed to precompile SpecialFunctions [276daf66-3868-5448-9aa4-cd146d93841b] to /Users/andy/.julia/compiled/v1.6/SpecialFunctions/jl_71dL33.\n",
      "Stacktrace:\n",
      "  [1] \u001b[0m\u001b[1merror\u001b[22m\u001b[0m\u001b[1m(\u001b[22m\u001b[90ms\u001b[39m::\u001b[0mString\u001b[0m\u001b[1m)\u001b[22m\n",
      "\u001b[90m    @ \u001b[39m\u001b[90mBase\u001b[39m \u001b[90m./\u001b[39m\u001b[90;4merror.jl:33\u001b[0m\n",
      "  [2] \u001b[0m\u001b[1mcompilecache\u001b[22m\u001b[0m\u001b[1m(\u001b[22m\u001b[90mpkg\u001b[39m::\u001b[0mBase.PkgId, \u001b[90mpath\u001b[39m::\u001b[0mString, \u001b[90minternal_stderr\u001b[39m::\u001b[0mIOContext\u001b[90m{Base.PipeEndpoint}\u001b[39m, \u001b[90minternal_stdout\u001b[39m::\u001b[0mIOContext\u001b[90m{Base.PipeEndpoint}\u001b[39m, \u001b[90mignore_loaded_modules\u001b[39m::\u001b[0mBool\u001b[0m\u001b[1m)\u001b[22m\n",
      "\u001b[90m    @ \u001b[39m\u001b[90mBase\u001b[39m \u001b[90m./\u001b[39m\u001b[90;4mloading.jl:1385\u001b[0m\n",
      "  [3] \u001b[0m\u001b[1mcompilecache\u001b[22m\u001b[0m\u001b[1m(\u001b[22m\u001b[90mpkg\u001b[39m::\u001b[0mBase.PkgId, \u001b[90mpath\u001b[39m::\u001b[0mString\u001b[0m\u001b[1m)\u001b[22m\n",
      "\u001b[90m    @ \u001b[39m\u001b[90mBase\u001b[39m \u001b[90m./\u001b[39m\u001b[90;4mloading.jl:1329\u001b[0m\n",
      "  [4] \u001b[0m\u001b[1m_require\u001b[22m\u001b[0m\u001b[1m(\u001b[22m\u001b[90mpkg\u001b[39m::\u001b[0mBase.PkgId\u001b[0m\u001b[1m)\u001b[22m\n",
      "\u001b[90m    @ \u001b[39m\u001b[90mBase\u001b[39m \u001b[90m./\u001b[39m\u001b[90;4mloading.jl:1043\u001b[0m\n",
      "  [5] \u001b[0m\u001b[1mrequire\u001b[22m\u001b[0m\u001b[1m(\u001b[22m\u001b[90muuidkey\u001b[39m::\u001b[0mBase.PkgId\u001b[0m\u001b[1m)\u001b[22m\n",
      "\u001b[90m    @ \u001b[39m\u001b[90mBase\u001b[39m \u001b[90m./\u001b[39m\u001b[90;4mloading.jl:936\u001b[0m\n",
      "  [6] \u001b[0m\u001b[1mrequire\u001b[22m\u001b[0m\u001b[1m(\u001b[22m\u001b[90minto\u001b[39m::\u001b[0mModule, \u001b[90mmod\u001b[39m::\u001b[0mSymbol\u001b[0m\u001b[1m)\u001b[22m\n",
      "\u001b[90m    @ \u001b[39m\u001b[90mBase\u001b[39m \u001b[90m./\u001b[39m\u001b[90;4mloading.jl:923\u001b[0m\n",
      "  [7] \u001b[0m\u001b[1minclude\u001b[22m\n",
      "\u001b[90m    @ \u001b[39m\u001b[90m./\u001b[39m\u001b[90;4mBase.jl:386\u001b[0m\u001b[90m [inlined]\u001b[39m\n",
      "  [8] \u001b[0m\u001b[1minclude_package_for_output\u001b[22m\u001b[0m\u001b[1m(\u001b[22m\u001b[90mpkg\u001b[39m::\u001b[0mBase.PkgId, \u001b[90minput\u001b[39m::\u001b[0mString, \u001b[90mdepot_path\u001b[39m::\u001b[0mVector\u001b[90m{String}\u001b[39m, \u001b[90mdl_load_path\u001b[39m::\u001b[0mVector\u001b[90m{String}\u001b[39m, \u001b[90mload_path\u001b[39m::\u001b[0mVector\u001b[90m{String}\u001b[39m, \u001b[90mconcrete_deps\u001b[39m::\u001b[0mVector\u001b[90m{Pair{Base.PkgId, UInt64}}\u001b[39m, \u001b[90msource\u001b[39m::\u001b[0mString\u001b[0m\u001b[1m)\u001b[22m\n",
      "\u001b[90m    @ \u001b[39m\u001b[90mBase\u001b[39m \u001b[90m./\u001b[39m\u001b[90;4mloading.jl:1235\u001b[0m\n",
      "  [9] top-level scope\n",
      "\u001b[90m    @ \u001b[39m\u001b[90;4mnone:1\u001b[0m\n",
      " [10] \u001b[0m\u001b[1meval\u001b[22m\n",
      "\u001b[90m    @ \u001b[39m\u001b[90m./\u001b[39m\u001b[90;4mboot.jl:360\u001b[0m\u001b[90m [inlined]\u001b[39m\n",
      " [11] \u001b[0m\u001b[1meval\u001b[22m\u001b[0m\u001b[1m(\u001b[22m\u001b[90mx\u001b[39m::\u001b[0mExpr\u001b[0m\u001b[1m)\u001b[22m\n",
      "\u001b[90m    @ \u001b[39m\u001b[90mBase.MainInclude\u001b[39m \u001b[90m./\u001b[39m\u001b[90;4mclient.jl:446\u001b[0m\n",
      " [12] top-level scope\n",
      "\u001b[90m    @ \u001b[39m\u001b[90;4mnone:1\u001b[0m\n",
      "in expression starting at /Users/andy/.julia/packages/StatsFuns/LvxaA/src/StatsFuns.jl:3\n",
      "\u001b[91m\u001b[1mERROR: \u001b[22m\u001b[39mLoadError: Failed to precompile StatsFuns [4c63d2b9-4356-54db-8cca-17b64c39e42c] to /Users/andy/.julia/compiled/v1.6/StatsFuns/jl_X0cCno.\n",
      "Stacktrace:\n",
      "  [1] \u001b[0m\u001b[1merror\u001b[22m\u001b[0m\u001b[1m(\u001b[22m\u001b[90ms\u001b[39m::\u001b[0mString\u001b[0m\u001b[1m)\u001b[22m\n",
      "\u001b[90m    @ \u001b[39m\u001b[90mBase\u001b[39m \u001b[90m./\u001b[39m\u001b[90;4merror.jl:33\u001b[0m\n",
      "  [2] \u001b[0m\u001b[1mcompilecache\u001b[22m\u001b[0m\u001b[1m(\u001b[22m\u001b[90mpkg\u001b[39m::\u001b[0mBase.PkgId, \u001b[90mpath\u001b[39m::\u001b[0mString, \u001b[90minternal_stderr\u001b[39m::\u001b[0mIOContext\u001b[90m{Base.PipeEndpoint}\u001b[39m, \u001b[90minternal_stdout\u001b[39m::\u001b[0mIOContext\u001b[90m{Base.PipeEndpoint}\u001b[39m, \u001b[90mignore_loaded_modules\u001b[39m::\u001b[0mBool\u001b[0m\u001b[1m)\u001b[22m\n",
      "\u001b[90m    @ \u001b[39m\u001b[90mBase\u001b[39m \u001b[90m./\u001b[39m\u001b[90;4mloading.jl:1385\u001b[0m\n",
      "  [3] \u001b[0m\u001b[1mcompilecache\u001b[22m\u001b[0m\u001b[1m(\u001b[22m\u001b[90mpkg\u001b[39m::\u001b[0mBase.PkgId, \u001b[90mpath\u001b[39m::\u001b[0mString\u001b[0m\u001b[1m)\u001b[22m\n",
      "\u001b[90m    @ \u001b[39m\u001b[90mBase\u001b[39m \u001b[90m./\u001b[39m\u001b[90;4mloading.jl:1329\u001b[0m\n",
      "  [4] \u001b[0m\u001b[1m_require\u001b[22m\u001b[0m\u001b[1m(\u001b[22m\u001b[90mpkg\u001b[39m::\u001b[0mBase.PkgId\u001b[0m\u001b[1m)\u001b[22m\n",
      "\u001b[90m    @ \u001b[39m\u001b[90mBase\u001b[39m \u001b[90m./\u001b[39m\u001b[90;4mloading.jl:1043\u001b[0m\n",
      "  [5] \u001b[0m\u001b[1mrequire\u001b[22m\u001b[0m\u001b[1m(\u001b[22m\u001b[90muuidkey\u001b[39m::\u001b[0mBase.PkgId\u001b[0m\u001b[1m)\u001b[22m\n",
      "\u001b[90m    @ \u001b[39m\u001b[90mBase\u001b[39m \u001b[90m./\u001b[39m\u001b[90;4mloading.jl:936\u001b[0m\n",
      "  [6] \u001b[0m\u001b[1mrequire\u001b[22m\u001b[0m\u001b[1m(\u001b[22m\u001b[90minto\u001b[39m::\u001b[0mModule, \u001b[90mmod\u001b[39m::\u001b[0mSymbol\u001b[0m\u001b[1m)\u001b[22m\n",
      "\u001b[90m    @ \u001b[39m\u001b[90mBase\u001b[39m \u001b[90m./\u001b[39m\u001b[90;4mloading.jl:923\u001b[0m\n",
      "  [7] \u001b[0m\u001b[1minclude\u001b[22m\n",
      "\u001b[90m    @ \u001b[39m\u001b[90m./\u001b[39m\u001b[90;4mBase.jl:386\u001b[0m\u001b[90m [inlined]\u001b[39m\n",
      "  [8] \u001b[0m\u001b[1minclude_package_for_output\u001b[22m\u001b[0m\u001b[1m(\u001b[22m\u001b[90mpkg\u001b[39m::\u001b[0mBase.PkgId, \u001b[90minput\u001b[39m::\u001b[0mString, \u001b[90mdepot_path\u001b[39m::\u001b[0mVector\u001b[90m{String}\u001b[39m, \u001b[90mdl_load_path\u001b[39m::\u001b[0mVector\u001b[90m{String}\u001b[39m, \u001b[90mload_path\u001b[39m::\u001b[0mVector\u001b[90m{String}\u001b[39m, \u001b[90mconcrete_deps\u001b[39m::\u001b[0mVector\u001b[90m{Pair{Base.PkgId, UInt64}}\u001b[39m, \u001b[90msource\u001b[39m::\u001b[0mString\u001b[0m\u001b[1m)\u001b[22m\n",
      "\u001b[90m    @ \u001b[39m\u001b[90mBase\u001b[39m \u001b[90m./\u001b[39m\u001b[90;4mloading.jl:1235\u001b[0m\n",
      "  [9] top-level scope\n",
      "\u001b[90m    @ \u001b[39m\u001b[90;4mnone:1\u001b[0m\n",
      " [10] \u001b[0m\u001b[1meval\u001b[22m\n",
      "\u001b[90m    @ \u001b[39m\u001b[90m./\u001b[39m\u001b[90;4mboot.jl:360\u001b[0m\u001b[90m [inlined]\u001b[39m\n",
      " [11] \u001b[0m\u001b[1meval\u001b[22m\u001b[0m\u001b[1m(\u001b[22m\u001b[90mx\u001b[39m::\u001b[0mExpr\u001b[0m\u001b[1m)\u001b[22m\n",
      "\u001b[90m    @ \u001b[39m\u001b[90mBase.MainInclude\u001b[39m \u001b[90m./\u001b[39m\u001b[90;4mclient.jl:446\u001b[0m\n",
      " [12] top-level scope\n",
      "\u001b[90m    @ \u001b[39m\u001b[90;4mnone:1\u001b[0m\n",
      "in expression starting at /Users/andy/.julia/packages/Distributions/Xrm9e/src/Distributions.jl:1\n"
     ]
    },
    {
     "name": "stderr",
     "output_type": "stream",
     "text": [
      "\u001b[91m\u001b[1mERROR: \u001b[22m\u001b[39mLoadError: Failed to precompile Distributions [31c24e10-a181-5473-b8eb-7969acd0382f] to /Users/andy/.julia/compiled/v1.6/Distributions/jl_5MLJPL.\n",
      "Stacktrace:\n",
      "  [1] \u001b[0m\u001b[1merror\u001b[22m\u001b[0m\u001b[1m(\u001b[22m\u001b[90ms\u001b[39m::\u001b[0mString\u001b[0m\u001b[1m)\u001b[22m\n",
      "\u001b[90m    @ \u001b[39m\u001b[90mBase\u001b[39m \u001b[90m./\u001b[39m\u001b[90;4merror.jl:33\u001b[0m\n",
      "  [2] \u001b[0m\u001b[1mcompilecache\u001b[22m\u001b[0m\u001b[1m(\u001b[22m\u001b[90mpkg\u001b[39m::\u001b[0mBase.PkgId, \u001b[90mpath\u001b[39m::\u001b[0mString, \u001b[90minternal_stderr\u001b[39m::\u001b[0mIOContext\u001b[90m{Base.PipeEndpoint}\u001b[39m, \u001b[90minternal_stdout\u001b[39m::\u001b[0mIOContext\u001b[90m{Base.PipeEndpoint}\u001b[39m, \u001b[90mignore_loaded_modules\u001b[39m::\u001b[0mBool\u001b[0m\u001b[1m)\u001b[22m\n",
      "\u001b[90m    @ \u001b[39m\u001b[90mBase\u001b[39m \u001b[90m./\u001b[39m\u001b[90;4mloading.jl:1385\u001b[0m\n",
      "  [3] \u001b[0m\u001b[1mcompilecache\u001b[22m\u001b[0m\u001b[1m(\u001b[22m\u001b[90mpkg\u001b[39m::\u001b[0mBase.PkgId, \u001b[90mpath\u001b[39m::\u001b[0mString\u001b[0m\u001b[1m)\u001b[22m\n",
      "\u001b[90m    @ \u001b[39m\u001b[90mBase\u001b[39m \u001b[90m./\u001b[39m\u001b[90;4mloading.jl:1329\u001b[0m\n",
      "  [4] \u001b[0m\u001b[1m_require\u001b[22m\u001b[0m\u001b[1m(\u001b[22m\u001b[90mpkg\u001b[39m::\u001b[0mBase.PkgId\u001b[0m\u001b[1m)\u001b[22m\n",
      "\u001b[90m    @ \u001b[39m\u001b[90mBase\u001b[39m \u001b[90m./\u001b[39m\u001b[90;4mloading.jl:1043\u001b[0m\n",
      "  [5] \u001b[0m\u001b[1mrequire\u001b[22m\u001b[0m\u001b[1m(\u001b[22m\u001b[90muuidkey\u001b[39m::\u001b[0mBase.PkgId\u001b[0m\u001b[1m)\u001b[22m\n",
      "\u001b[90m    @ \u001b[39m\u001b[90mBase\u001b[39m \u001b[90m./\u001b[39m\u001b[90;4mloading.jl:936\u001b[0m\n",
      "  [6] \u001b[0m\u001b[1mrequire\u001b[22m\u001b[0m\u001b[1m(\u001b[22m\u001b[90minto\u001b[39m::\u001b[0mModule, \u001b[90mmod\u001b[39m::\u001b[0mSymbol\u001b[0m\u001b[1m)\u001b[22m\n",
      "\u001b[90m    @ \u001b[39m\u001b[90mBase\u001b[39m \u001b[90m./\u001b[39m\u001b[90;4mloading.jl:923\u001b[0m\n",
      "  [7] \u001b[0m\u001b[1minclude\u001b[22m\n",
      "\u001b[90m    @ \u001b[39m\u001b[90m./\u001b[39m\u001b[90;4mBase.jl:386\u001b[0m\u001b[90m [inlined]\u001b[39m\n",
      "  [8] \u001b[0m\u001b[1minclude_package_for_output\u001b[22m\u001b[0m\u001b[1m(\u001b[22m\u001b[90mpkg\u001b[39m::\u001b[0mBase.PkgId, \u001b[90minput\u001b[39m::\u001b[0mString, \u001b[90mdepot_path\u001b[39m::\u001b[0mVector\u001b[90m{String}\u001b[39m, \u001b[90mdl_load_path\u001b[39m::\u001b[0mVector\u001b[90m{String}\u001b[39m, \u001b[90mload_path\u001b[39m::\u001b[0mVector\u001b[90m{String}\u001b[39m, \u001b[90mconcrete_deps\u001b[39m::\u001b[0mVector\u001b[90m{Pair{Base.PkgId, UInt64}}\u001b[39m, \u001b[90msource\u001b[39m::\u001b[0mNothing\u001b[0m\u001b[1m)\u001b[22m\n",
      "\u001b[90m    @ \u001b[39m\u001b[90mBase\u001b[39m \u001b[90m./\u001b[39m\u001b[90;4mloading.jl:1235\u001b[0m\n",
      "  [9] top-level scope\n",
      "\u001b[90m    @ \u001b[39m\u001b[90;4mnone:1\u001b[0m\n",
      " [10] \u001b[0m\u001b[1meval\u001b[22m\n",
      "\u001b[90m    @ \u001b[39m\u001b[90m./\u001b[39m\u001b[90;4mboot.jl:360\u001b[0m\u001b[90m [inlined]\u001b[39m\n",
      " [11] \u001b[0m\u001b[1meval\u001b[22m\u001b[0m\u001b[1m(\u001b[22m\u001b[90mx\u001b[39m::\u001b[0mExpr\u001b[0m\u001b[1m)\u001b[22m\n",
      "\u001b[90m    @ \u001b[39m\u001b[90mBase.MainInclude\u001b[39m \u001b[90m./\u001b[39m\u001b[90;4mclient.jl:446\u001b[0m\n",
      " [12] top-level scope\n",
      "\u001b[90m    @ \u001b[39m\u001b[90;4mnone:1\u001b[0m\n",
      "in expression starting at /Users/andy/.julia/packages/MixedModels/Y6bql/src/MixedModels.jl:1\n"
     ]
    },
    {
     "ename": "LoadError",
     "evalue": "Failed to precompile MixedModels [ff71e718-51f3-5ec2-a782-8ffcbfa3c316] to /Users/andy/.julia/compiled/v1.6/MixedModels/jl_g2nDTH.",
     "output_type": "error",
     "traceback": [
      "Failed to precompile MixedModels [ff71e718-51f3-5ec2-a782-8ffcbfa3c316] to /Users/andy/.julia/compiled/v1.6/MixedModels/jl_g2nDTH.",
      "",
      "Stacktrace:",
      " [1] error(s::String)",
      "   @ Base ./error.jl:33",
      " [2] compilecache(pkg::Base.PkgId, path::String, internal_stderr::IJulia.IJuliaStdio{Base.PipeEndpoint}, internal_stdout::IJulia.IJuliaStdio{Base.PipeEndpoint}, ignore_loaded_modules::Bool)",
      "   @ Base ./loading.jl:1385",
      " [3] compilecache(pkg::Base.PkgId, path::String)",
      "   @ Base ./loading.jl:1329",
      " [4] _require(pkg::Base.PkgId)",
      "   @ Base ./loading.jl:1043",
      " [5] require(uuidkey::Base.PkgId)",
      "   @ Base ./loading.jl:936",
      " [6] require(into::Module, mod::Symbol)",
      "   @ Base ./loading.jl:923",
      " [7] eval",
      "   @ ./boot.jl:360 [inlined]",
      " [8] include_string(mapexpr::typeof(REPL.softscope), mod::Module, code::String, filename::String)",
      "   @ Base ./loading.jl:1116"
     ]
    }
   ],
   "source": [
    "using MixedModels, CSV, DataFrames, CategoricalArrays, Gadfly, Random, DataFramesMeta"
   ]
  },
  {
   "cell_type": "code",
   "execution_count": 32,
   "metadata": {},
   "outputs": [
    {
     "data": {
      "text/html": [
       "<div class=\"data-frame\"><p>625,950 rows × 14 columns (omitted printing of 7 columns)</p><table class=\"data-frame\"><thead><tr><th></th><th>type</th><th>uname</th><th>year</th><th>value</th><th>admin_st</th><th>district_label</th><th>office_label</th></tr><tr><th></th><th title=\"String\">String</th><th title=\"Int64\">Int64</th><th title=\"Int64\">Int64</th><th title=\"Float64\">Float64</th><th title=\"String\">String</th><th title=\"String\">String</th><th title=\"String\">String</th></tr></thead><tbody><tr><th>1</th><td>pfgAGB</td><td>1</td><td>1991</td><td>101.949</td><td>AZ</td><td>ARIZONA STRIP DISTRICT OFFICE</td><td>ARIZONA STRIP FIELD OFFICE</td></tr><tr><th>2</th><td>pfgAGB</td><td>1</td><td>1992</td><td>94.2598</td><td>AZ</td><td>ARIZONA STRIP DISTRICT OFFICE</td><td>ARIZONA STRIP FIELD OFFICE</td></tr><tr><th>3</th><td>pfgAGB</td><td>1</td><td>1993</td><td>78.4536</td><td>AZ</td><td>ARIZONA STRIP DISTRICT OFFICE</td><td>ARIZONA STRIP FIELD OFFICE</td></tr><tr><th>4</th><td>pfgAGB</td><td>1</td><td>1994</td><td>75.6615</td><td>AZ</td><td>ARIZONA STRIP DISTRICT OFFICE</td><td>ARIZONA STRIP FIELD OFFICE</td></tr><tr><th>5</th><td>pfgAGB</td><td>1</td><td>1995</td><td>122.762</td><td>AZ</td><td>ARIZONA STRIP DISTRICT OFFICE</td><td>ARIZONA STRIP FIELD OFFICE</td></tr><tr><th>6</th><td>pfgAGB</td><td>1</td><td>1996</td><td>70.3702</td><td>AZ</td><td>ARIZONA STRIP DISTRICT OFFICE</td><td>ARIZONA STRIP FIELD OFFICE</td></tr><tr><th>7</th><td>pfgAGB</td><td>1</td><td>1997</td><td>142.188</td><td>AZ</td><td>ARIZONA STRIP DISTRICT OFFICE</td><td>ARIZONA STRIP FIELD OFFICE</td></tr><tr><th>8</th><td>pfgAGB</td><td>1</td><td>1998</td><td>128.482</td><td>AZ</td><td>ARIZONA STRIP DISTRICT OFFICE</td><td>ARIZONA STRIP FIELD OFFICE</td></tr><tr><th>9</th><td>pfgAGB</td><td>1</td><td>1999</td><td>98.0939</td><td>AZ</td><td>ARIZONA STRIP DISTRICT OFFICE</td><td>ARIZONA STRIP FIELD OFFICE</td></tr><tr><th>10</th><td>pfgAGB</td><td>1</td><td>2000</td><td>52.9923</td><td>AZ</td><td>ARIZONA STRIP DISTRICT OFFICE</td><td>ARIZONA STRIP FIELD OFFICE</td></tr><tr><th>11</th><td>pfgAGB</td><td>1</td><td>2001</td><td>60.6675</td><td>AZ</td><td>ARIZONA STRIP DISTRICT OFFICE</td><td>ARIZONA STRIP FIELD OFFICE</td></tr><tr><th>12</th><td>pfgAGB</td><td>1</td><td>2002</td><td>18.0802</td><td>AZ</td><td>ARIZONA STRIP DISTRICT OFFICE</td><td>ARIZONA STRIP FIELD OFFICE</td></tr><tr><th>13</th><td>pfgAGB</td><td>1</td><td>2003</td><td>72.2468</td><td>AZ</td><td>ARIZONA STRIP DISTRICT OFFICE</td><td>ARIZONA STRIP FIELD OFFICE</td></tr><tr><th>14</th><td>pfgAGB</td><td>1</td><td>2004</td><td>116.168</td><td>AZ</td><td>ARIZONA STRIP DISTRICT OFFICE</td><td>ARIZONA STRIP FIELD OFFICE</td></tr><tr><th>15</th><td>pfgAGB</td><td>1</td><td>2005</td><td>89.8552</td><td>AZ</td><td>ARIZONA STRIP DISTRICT OFFICE</td><td>ARIZONA STRIP FIELD OFFICE</td></tr><tr><th>16</th><td>pfgAGB</td><td>1</td><td>2006</td><td>49.9505</td><td>AZ</td><td>ARIZONA STRIP DISTRICT OFFICE</td><td>ARIZONA STRIP FIELD OFFICE</td></tr><tr><th>17</th><td>pfgAGB</td><td>1</td><td>2007</td><td>60.3185</td><td>AZ</td><td>ARIZONA STRIP DISTRICT OFFICE</td><td>ARIZONA STRIP FIELD OFFICE</td></tr><tr><th>18</th><td>pfgAGB</td><td>1</td><td>2008</td><td>128.413</td><td>AZ</td><td>ARIZONA STRIP DISTRICT OFFICE</td><td>ARIZONA STRIP FIELD OFFICE</td></tr><tr><th>19</th><td>pfgAGB</td><td>1</td><td>2009</td><td>151.421</td><td>AZ</td><td>ARIZONA STRIP DISTRICT OFFICE</td><td>ARIZONA STRIP FIELD OFFICE</td></tr><tr><th>20</th><td>pfgAGB</td><td>1</td><td>2010</td><td>142.685</td><td>AZ</td><td>ARIZONA STRIP DISTRICT OFFICE</td><td>ARIZONA STRIP FIELD OFFICE</td></tr><tr><th>21</th><td>pfgAGB</td><td>1</td><td>2011</td><td>72.9027</td><td>AZ</td><td>ARIZONA STRIP DISTRICT OFFICE</td><td>ARIZONA STRIP FIELD OFFICE</td></tr><tr><th>22</th><td>pfgAGB</td><td>1</td><td>2012</td><td>86.8986</td><td>AZ</td><td>ARIZONA STRIP DISTRICT OFFICE</td><td>ARIZONA STRIP FIELD OFFICE</td></tr><tr><th>23</th><td>pfgAGB</td><td>1</td><td>2013</td><td>193.167</td><td>AZ</td><td>ARIZONA STRIP DISTRICT OFFICE</td><td>ARIZONA STRIP FIELD OFFICE</td></tr><tr><th>24</th><td>pfgAGB</td><td>1</td><td>2014</td><td>105.66</td><td>AZ</td><td>ARIZONA STRIP DISTRICT OFFICE</td><td>ARIZONA STRIP FIELD OFFICE</td></tr><tr><th>25</th><td>pfgAGB</td><td>1</td><td>2015</td><td>92.7444</td><td>AZ</td><td>ARIZONA STRIP DISTRICT OFFICE</td><td>ARIZONA STRIP FIELD OFFICE</td></tr><tr><th>26</th><td>pfgAGB</td><td>1</td><td>2016</td><td>109.204</td><td>AZ</td><td>ARIZONA STRIP DISTRICT OFFICE</td><td>ARIZONA STRIP FIELD OFFICE</td></tr><tr><th>27</th><td>pfgAGB</td><td>1</td><td>2017</td><td>123.083</td><td>AZ</td><td>ARIZONA STRIP DISTRICT OFFICE</td><td>ARIZONA STRIP FIELD OFFICE</td></tr><tr><th>28</th><td>pfgAGB</td><td>1</td><td>2018</td><td>126.234</td><td>AZ</td><td>ARIZONA STRIP DISTRICT OFFICE</td><td>ARIZONA STRIP FIELD OFFICE</td></tr><tr><th>29</th><td>pfgAGB</td><td>1</td><td>2019</td><td>158.469</td><td>AZ</td><td>ARIZONA STRIP DISTRICT OFFICE</td><td>ARIZONA STRIP FIELD OFFICE</td></tr><tr><th>30</th><td>pfgAGB</td><td>1</td><td>2020</td><td>226.435</td><td>AZ</td><td>ARIZONA STRIP DISTRICT OFFICE</td><td>ARIZONA STRIP FIELD OFFICE</td></tr><tr><th>&vellip;</th><td>&vellip;</td><td>&vellip;</td><td>&vellip;</td><td>&vellip;</td><td>&vellip;</td><td>&vellip;</td><td>&vellip;</td></tr></tbody></table></div>"
      ],
      "text/latex": [
       "\\begin{tabular}{r|cccccccc}\n",
       "\t& type & uname & year & value & admin\\_st & district\\_label & office\\_label & \\\\\n",
       "\t\\hline\n",
       "\t& String & Int64 & Int64 & Float64 & String & String & String & \\\\\n",
       "\t\\hline\n",
       "\t1 & pfgAGB & 1 & 1991 & 101.949 & AZ & ARIZONA STRIP DISTRICT OFFICE & ARIZONA STRIP FIELD OFFICE & $\\dots$ \\\\\n",
       "\t2 & pfgAGB & 1 & 1992 & 94.2598 & AZ & ARIZONA STRIP DISTRICT OFFICE & ARIZONA STRIP FIELD OFFICE & $\\dots$ \\\\\n",
       "\t3 & pfgAGB & 1 & 1993 & 78.4536 & AZ & ARIZONA STRIP DISTRICT OFFICE & ARIZONA STRIP FIELD OFFICE & $\\dots$ \\\\\n",
       "\t4 & pfgAGB & 1 & 1994 & 75.6615 & AZ & ARIZONA STRIP DISTRICT OFFICE & ARIZONA STRIP FIELD OFFICE & $\\dots$ \\\\\n",
       "\t5 & pfgAGB & 1 & 1995 & 122.762 & AZ & ARIZONA STRIP DISTRICT OFFICE & ARIZONA STRIP FIELD OFFICE & $\\dots$ \\\\\n",
       "\t6 & pfgAGB & 1 & 1996 & 70.3702 & AZ & ARIZONA STRIP DISTRICT OFFICE & ARIZONA STRIP FIELD OFFICE & $\\dots$ \\\\\n",
       "\t7 & pfgAGB & 1 & 1997 & 142.188 & AZ & ARIZONA STRIP DISTRICT OFFICE & ARIZONA STRIP FIELD OFFICE & $\\dots$ \\\\\n",
       "\t8 & pfgAGB & 1 & 1998 & 128.482 & AZ & ARIZONA STRIP DISTRICT OFFICE & ARIZONA STRIP FIELD OFFICE & $\\dots$ \\\\\n",
       "\t9 & pfgAGB & 1 & 1999 & 98.0939 & AZ & ARIZONA STRIP DISTRICT OFFICE & ARIZONA STRIP FIELD OFFICE & $\\dots$ \\\\\n",
       "\t10 & pfgAGB & 1 & 2000 & 52.9923 & AZ & ARIZONA STRIP DISTRICT OFFICE & ARIZONA STRIP FIELD OFFICE & $\\dots$ \\\\\n",
       "\t11 & pfgAGB & 1 & 2001 & 60.6675 & AZ & ARIZONA STRIP DISTRICT OFFICE & ARIZONA STRIP FIELD OFFICE & $\\dots$ \\\\\n",
       "\t12 & pfgAGB & 1 & 2002 & 18.0802 & AZ & ARIZONA STRIP DISTRICT OFFICE & ARIZONA STRIP FIELD OFFICE & $\\dots$ \\\\\n",
       "\t13 & pfgAGB & 1 & 2003 & 72.2468 & AZ & ARIZONA STRIP DISTRICT OFFICE & ARIZONA STRIP FIELD OFFICE & $\\dots$ \\\\\n",
       "\t14 & pfgAGB & 1 & 2004 & 116.168 & AZ & ARIZONA STRIP DISTRICT OFFICE & ARIZONA STRIP FIELD OFFICE & $\\dots$ \\\\\n",
       "\t15 & pfgAGB & 1 & 2005 & 89.8552 & AZ & ARIZONA STRIP DISTRICT OFFICE & ARIZONA STRIP FIELD OFFICE & $\\dots$ \\\\\n",
       "\t16 & pfgAGB & 1 & 2006 & 49.9505 & AZ & ARIZONA STRIP DISTRICT OFFICE & ARIZONA STRIP FIELD OFFICE & $\\dots$ \\\\\n",
       "\t17 & pfgAGB & 1 & 2007 & 60.3185 & AZ & ARIZONA STRIP DISTRICT OFFICE & ARIZONA STRIP FIELD OFFICE & $\\dots$ \\\\\n",
       "\t18 & pfgAGB & 1 & 2008 & 128.413 & AZ & ARIZONA STRIP DISTRICT OFFICE & ARIZONA STRIP FIELD OFFICE & $\\dots$ \\\\\n",
       "\t19 & pfgAGB & 1 & 2009 & 151.421 & AZ & ARIZONA STRIP DISTRICT OFFICE & ARIZONA STRIP FIELD OFFICE & $\\dots$ \\\\\n",
       "\t20 & pfgAGB & 1 & 2010 & 142.685 & AZ & ARIZONA STRIP DISTRICT OFFICE & ARIZONA STRIP FIELD OFFICE & $\\dots$ \\\\\n",
       "\t21 & pfgAGB & 1 & 2011 & 72.9027 & AZ & ARIZONA STRIP DISTRICT OFFICE & ARIZONA STRIP FIELD OFFICE & $\\dots$ \\\\\n",
       "\t22 & pfgAGB & 1 & 2012 & 86.8986 & AZ & ARIZONA STRIP DISTRICT OFFICE & ARIZONA STRIP FIELD OFFICE & $\\dots$ \\\\\n",
       "\t23 & pfgAGB & 1 & 2013 & 193.167 & AZ & ARIZONA STRIP DISTRICT OFFICE & ARIZONA STRIP FIELD OFFICE & $\\dots$ \\\\\n",
       "\t24 & pfgAGB & 1 & 2014 & 105.66 & AZ & ARIZONA STRIP DISTRICT OFFICE & ARIZONA STRIP FIELD OFFICE & $\\dots$ \\\\\n",
       "\t25 & pfgAGB & 1 & 2015 & 92.7444 & AZ & ARIZONA STRIP DISTRICT OFFICE & ARIZONA STRIP FIELD OFFICE & $\\dots$ \\\\\n",
       "\t26 & pfgAGB & 1 & 2016 & 109.204 & AZ & ARIZONA STRIP DISTRICT OFFICE & ARIZONA STRIP FIELD OFFICE & $\\dots$ \\\\\n",
       "\t27 & pfgAGB & 1 & 2017 & 123.083 & AZ & ARIZONA STRIP DISTRICT OFFICE & ARIZONA STRIP FIELD OFFICE & $\\dots$ \\\\\n",
       "\t28 & pfgAGB & 1 & 2018 & 126.234 & AZ & ARIZONA STRIP DISTRICT OFFICE & ARIZONA STRIP FIELD OFFICE & $\\dots$ \\\\\n",
       "\t29 & pfgAGB & 1 & 2019 & 158.469 & AZ & ARIZONA STRIP DISTRICT OFFICE & ARIZONA STRIP FIELD OFFICE & $\\dots$ \\\\\n",
       "\t30 & pfgAGB & 1 & 2020 & 226.435 & AZ & ARIZONA STRIP DISTRICT OFFICE & ARIZONA STRIP FIELD OFFICE & $\\dots$ \\\\\n",
       "\t$\\dots$ & $\\dots$ & $\\dots$ & $\\dots$ & $\\dots$ & $\\dots$ & $\\dots$ & $\\dots$ &  \\\\\n",
       "\\end{tabular}\n"
      ],
      "text/plain": [
       "\u001b[1m625950×14 DataFrame\u001b[0m\n",
       "\u001b[1m    Row \u001b[0m│\u001b[1m type   \u001b[0m\u001b[1m uname \u001b[0m\u001b[1m year  \u001b[0m\u001b[1m value    \u001b[0m\u001b[1m admin_st \u001b[0m\u001b[1m district_label            \u001b[0m ⋯\n",
       "\u001b[1m        \u001b[0m│\u001b[90m String \u001b[0m\u001b[90m Int64 \u001b[0m\u001b[90m Int64 \u001b[0m\u001b[90m Float64  \u001b[0m\u001b[90m String   \u001b[0m\u001b[90m String                    \u001b[0m ⋯\n",
       "────────┼───────────────────────────────────────────────────────────────────────\n",
       "      1 │ pfgAGB      1   1991  101.949   AZ        ARIZONA STRIP DISTRICT OFF ⋯\n",
       "      2 │ pfgAGB      1   1992   94.2598  AZ        ARIZONA STRIP DISTRICT OFF\n",
       "      3 │ pfgAGB      1   1993   78.4536  AZ        ARIZONA STRIP DISTRICT OFF\n",
       "      4 │ pfgAGB      1   1994   75.6615  AZ        ARIZONA STRIP DISTRICT OFF\n",
       "      5 │ pfgAGB      1   1995  122.762   AZ        ARIZONA STRIP DISTRICT OFF ⋯\n",
       "      6 │ pfgAGB      1   1996   70.3702  AZ        ARIZONA STRIP DISTRICT OFF\n",
       "      7 │ pfgAGB      1   1997  142.188   AZ        ARIZONA STRIP DISTRICT OFF\n",
       "      8 │ pfgAGB      1   1998  128.482   AZ        ARIZONA STRIP DISTRICT OFF\n",
       "      9 │ pfgAGB      1   1999   98.0939  AZ        ARIZONA STRIP DISTRICT OFF ⋯\n",
       "     10 │ pfgAGB      1   2000   52.9923  AZ        ARIZONA STRIP DISTRICT OFF\n",
       "     11 │ pfgAGB      1   2001   60.6675  AZ        ARIZONA STRIP DISTRICT OFF\n",
       "   ⋮    │   ⋮       ⋮      ⋮       ⋮         ⋮                      ⋮          ⋱\n",
       " 625941 │ pfgAGB  20933   2007  479.959   WY        WIND RIVER BIGHORN BASIN D\n",
       " 625942 │ pfgAGB  20933   2008  466.994   WY        WIND RIVER BIGHORN BASIN D ⋯\n",
       " 625943 │ pfgAGB  20933   2009  615.002   WY        WIND RIVER BIGHORN BASIN D\n",
       " 625944 │ pfgAGB  20933   2010  687.441   WY        WIND RIVER BIGHORN BASIN D\n",
       " 625945 │ pfgAGB  20933   2011  527.568   WY        WIND RIVER BIGHORN BASIN D\n",
       " 625946 │ pfgAGB  20933   2020  485.012   WY        WIND RIVER BIGHORN BASIN D ⋯\n",
       " 625947 │ pfgAGB  20933   2019  646.765   WY        WIND RIVER BIGHORN BASIN D\n",
       " 625948 │ pfgAGB  20933   2018  600.773   WY        WIND RIVER BIGHORN BASIN D\n",
       " 625949 │ pfgAGB  20933   2017  721.537   WY        WIND RIVER BIGHORN BASIN D\n",
       " 625950 │ pfgAGB  20933   2016  626.355   WY        WIND RIVER BIGHORN BASIN D ⋯\n",
       "\u001b[36m                                               9 columns and 625929 rows omitted\u001b[0m"
      ]
     },
     "execution_count": 32,
     "metadata": {},
     "output_type": "execute_result"
    }
   ],
   "source": [
    "df = DataFrame( CSV.read(\"/Users/andy/Dropbox/projects/BLM_rangeland_trends/data/temp/pfg_agb.csv\", DataFrame))"
   ]
  },
  {
   "cell_type": "code",
   "execution_count": 33,
   "metadata": {},
   "outputs": [
    {
     "data": {
      "text/plain": [
       "14-element Vector{String}:\n",
       " \"type\"\n",
       " \"uname\"\n",
       " \"year\"\n",
       " \"value\"\n",
       " \"admin_st\"\n",
       " \"district_label\"\n",
       " \"office_label\"\n",
       " \"ecogroup\"\n",
       " \"climate_region\"\n",
       " \"area\"\n",
       " \"value2\"\n",
       " \"value1\"\n",
       " \"year2\"\n",
       " \"area2\""
      ]
     },
     "execution_count": 33,
     "metadata": {},
     "output_type": "execute_result"
    }
   ],
   "source": [
    "names(df)"
   ]
  },
  {
   "cell_type": "code",
   "execution_count": 34,
   "metadata": {},
   "outputs": [
    {
     "data": {
      "text/html": [
       "<div class=\"data-frame\"><p>625,950 rows × 8 columns (omitted printing of 3 columns)</p><table class=\"data-frame\"><thead><tr><th></th><th>uname</th><th>year</th><th>district_label</th><th>office_label</th><th>ecogroup</th></tr><tr><th></th><th title=\"Int64\">Int64</th><th title=\"Int64\">Int64</th><th title=\"String\">String</th><th title=\"String\">String</th><th title=\"String\">String</th></tr></thead><tbody><tr><th>1</th><td>1</td><td>1991</td><td>ARIZONA STRIP DISTRICT OFFICE</td><td>ARIZONA STRIP FIELD OFFICE</td><td>E Cold Deserts</td></tr><tr><th>2</th><td>1</td><td>1992</td><td>ARIZONA STRIP DISTRICT OFFICE</td><td>ARIZONA STRIP FIELD OFFICE</td><td>E Cold Deserts</td></tr><tr><th>3</th><td>1</td><td>1993</td><td>ARIZONA STRIP DISTRICT OFFICE</td><td>ARIZONA STRIP FIELD OFFICE</td><td>E Cold Deserts</td></tr><tr><th>4</th><td>1</td><td>1994</td><td>ARIZONA STRIP DISTRICT OFFICE</td><td>ARIZONA STRIP FIELD OFFICE</td><td>E Cold Deserts</td></tr><tr><th>5</th><td>1</td><td>1995</td><td>ARIZONA STRIP DISTRICT OFFICE</td><td>ARIZONA STRIP FIELD OFFICE</td><td>E Cold Deserts</td></tr><tr><th>6</th><td>1</td><td>1996</td><td>ARIZONA STRIP DISTRICT OFFICE</td><td>ARIZONA STRIP FIELD OFFICE</td><td>E Cold Deserts</td></tr><tr><th>7</th><td>1</td><td>1997</td><td>ARIZONA STRIP DISTRICT OFFICE</td><td>ARIZONA STRIP FIELD OFFICE</td><td>E Cold Deserts</td></tr><tr><th>8</th><td>1</td><td>1998</td><td>ARIZONA STRIP DISTRICT OFFICE</td><td>ARIZONA STRIP FIELD OFFICE</td><td>E Cold Deserts</td></tr><tr><th>9</th><td>1</td><td>1999</td><td>ARIZONA STRIP DISTRICT OFFICE</td><td>ARIZONA STRIP FIELD OFFICE</td><td>E Cold Deserts</td></tr><tr><th>10</th><td>1</td><td>2000</td><td>ARIZONA STRIP DISTRICT OFFICE</td><td>ARIZONA STRIP FIELD OFFICE</td><td>E Cold Deserts</td></tr><tr><th>11</th><td>1</td><td>2001</td><td>ARIZONA STRIP DISTRICT OFFICE</td><td>ARIZONA STRIP FIELD OFFICE</td><td>E Cold Deserts</td></tr><tr><th>12</th><td>1</td><td>2002</td><td>ARIZONA STRIP DISTRICT OFFICE</td><td>ARIZONA STRIP FIELD OFFICE</td><td>E Cold Deserts</td></tr><tr><th>13</th><td>1</td><td>2003</td><td>ARIZONA STRIP DISTRICT OFFICE</td><td>ARIZONA STRIP FIELD OFFICE</td><td>E Cold Deserts</td></tr><tr><th>14</th><td>1</td><td>2004</td><td>ARIZONA STRIP DISTRICT OFFICE</td><td>ARIZONA STRIP FIELD OFFICE</td><td>E Cold Deserts</td></tr><tr><th>15</th><td>1</td><td>2005</td><td>ARIZONA STRIP DISTRICT OFFICE</td><td>ARIZONA STRIP FIELD OFFICE</td><td>E Cold Deserts</td></tr><tr><th>16</th><td>1</td><td>2006</td><td>ARIZONA STRIP DISTRICT OFFICE</td><td>ARIZONA STRIP FIELD OFFICE</td><td>E Cold Deserts</td></tr><tr><th>17</th><td>1</td><td>2007</td><td>ARIZONA STRIP DISTRICT OFFICE</td><td>ARIZONA STRIP FIELD OFFICE</td><td>E Cold Deserts</td></tr><tr><th>18</th><td>1</td><td>2008</td><td>ARIZONA STRIP DISTRICT OFFICE</td><td>ARIZONA STRIP FIELD OFFICE</td><td>E Cold Deserts</td></tr><tr><th>19</th><td>1</td><td>2009</td><td>ARIZONA STRIP DISTRICT OFFICE</td><td>ARIZONA STRIP FIELD OFFICE</td><td>E Cold Deserts</td></tr><tr><th>20</th><td>1</td><td>2010</td><td>ARIZONA STRIP DISTRICT OFFICE</td><td>ARIZONA STRIP FIELD OFFICE</td><td>E Cold Deserts</td></tr><tr><th>21</th><td>1</td><td>2011</td><td>ARIZONA STRIP DISTRICT OFFICE</td><td>ARIZONA STRIP FIELD OFFICE</td><td>E Cold Deserts</td></tr><tr><th>22</th><td>1</td><td>2012</td><td>ARIZONA STRIP DISTRICT OFFICE</td><td>ARIZONA STRIP FIELD OFFICE</td><td>E Cold Deserts</td></tr><tr><th>23</th><td>1</td><td>2013</td><td>ARIZONA STRIP DISTRICT OFFICE</td><td>ARIZONA STRIP FIELD OFFICE</td><td>E Cold Deserts</td></tr><tr><th>24</th><td>1</td><td>2014</td><td>ARIZONA STRIP DISTRICT OFFICE</td><td>ARIZONA STRIP FIELD OFFICE</td><td>E Cold Deserts</td></tr><tr><th>25</th><td>1</td><td>2015</td><td>ARIZONA STRIP DISTRICT OFFICE</td><td>ARIZONA STRIP FIELD OFFICE</td><td>E Cold Deserts</td></tr><tr><th>26</th><td>1</td><td>2016</td><td>ARIZONA STRIP DISTRICT OFFICE</td><td>ARIZONA STRIP FIELD OFFICE</td><td>E Cold Deserts</td></tr><tr><th>27</th><td>1</td><td>2017</td><td>ARIZONA STRIP DISTRICT OFFICE</td><td>ARIZONA STRIP FIELD OFFICE</td><td>E Cold Deserts</td></tr><tr><th>28</th><td>1</td><td>2018</td><td>ARIZONA STRIP DISTRICT OFFICE</td><td>ARIZONA STRIP FIELD OFFICE</td><td>E Cold Deserts</td></tr><tr><th>29</th><td>1</td><td>2019</td><td>ARIZONA STRIP DISTRICT OFFICE</td><td>ARIZONA STRIP FIELD OFFICE</td><td>E Cold Deserts</td></tr><tr><th>30</th><td>1</td><td>2020</td><td>ARIZONA STRIP DISTRICT OFFICE</td><td>ARIZONA STRIP FIELD OFFICE</td><td>E Cold Deserts</td></tr><tr><th>&vellip;</th><td>&vellip;</td><td>&vellip;</td><td>&vellip;</td><td>&vellip;</td><td>&vellip;</td></tr></tbody></table></div>"
      ],
      "text/latex": [
       "\\begin{tabular}{r|cccccc}\n",
       "\t& uname & year & district\\_label & office\\_label & ecogroup & \\\\\n",
       "\t\\hline\n",
       "\t& Int64 & Int64 & String & String & String & \\\\\n",
       "\t\\hline\n",
       "\t1 & 1 & 1991 & ARIZONA STRIP DISTRICT OFFICE & ARIZONA STRIP FIELD OFFICE & E Cold Deserts & $\\dots$ \\\\\n",
       "\t2 & 1 & 1992 & ARIZONA STRIP DISTRICT OFFICE & ARIZONA STRIP FIELD OFFICE & E Cold Deserts & $\\dots$ \\\\\n",
       "\t3 & 1 & 1993 & ARIZONA STRIP DISTRICT OFFICE & ARIZONA STRIP FIELD OFFICE & E Cold Deserts & $\\dots$ \\\\\n",
       "\t4 & 1 & 1994 & ARIZONA STRIP DISTRICT OFFICE & ARIZONA STRIP FIELD OFFICE & E Cold Deserts & $\\dots$ \\\\\n",
       "\t5 & 1 & 1995 & ARIZONA STRIP DISTRICT OFFICE & ARIZONA STRIP FIELD OFFICE & E Cold Deserts & $\\dots$ \\\\\n",
       "\t6 & 1 & 1996 & ARIZONA STRIP DISTRICT OFFICE & ARIZONA STRIP FIELD OFFICE & E Cold Deserts & $\\dots$ \\\\\n",
       "\t7 & 1 & 1997 & ARIZONA STRIP DISTRICT OFFICE & ARIZONA STRIP FIELD OFFICE & E Cold Deserts & $\\dots$ \\\\\n",
       "\t8 & 1 & 1998 & ARIZONA STRIP DISTRICT OFFICE & ARIZONA STRIP FIELD OFFICE & E Cold Deserts & $\\dots$ \\\\\n",
       "\t9 & 1 & 1999 & ARIZONA STRIP DISTRICT OFFICE & ARIZONA STRIP FIELD OFFICE & E Cold Deserts & $\\dots$ \\\\\n",
       "\t10 & 1 & 2000 & ARIZONA STRIP DISTRICT OFFICE & ARIZONA STRIP FIELD OFFICE & E Cold Deserts & $\\dots$ \\\\\n",
       "\t11 & 1 & 2001 & ARIZONA STRIP DISTRICT OFFICE & ARIZONA STRIP FIELD OFFICE & E Cold Deserts & $\\dots$ \\\\\n",
       "\t12 & 1 & 2002 & ARIZONA STRIP DISTRICT OFFICE & ARIZONA STRIP FIELD OFFICE & E Cold Deserts & $\\dots$ \\\\\n",
       "\t13 & 1 & 2003 & ARIZONA STRIP DISTRICT OFFICE & ARIZONA STRIP FIELD OFFICE & E Cold Deserts & $\\dots$ \\\\\n",
       "\t14 & 1 & 2004 & ARIZONA STRIP DISTRICT OFFICE & ARIZONA STRIP FIELD OFFICE & E Cold Deserts & $\\dots$ \\\\\n",
       "\t15 & 1 & 2005 & ARIZONA STRIP DISTRICT OFFICE & ARIZONA STRIP FIELD OFFICE & E Cold Deserts & $\\dots$ \\\\\n",
       "\t16 & 1 & 2006 & ARIZONA STRIP DISTRICT OFFICE & ARIZONA STRIP FIELD OFFICE & E Cold Deserts & $\\dots$ \\\\\n",
       "\t17 & 1 & 2007 & ARIZONA STRIP DISTRICT OFFICE & ARIZONA STRIP FIELD OFFICE & E Cold Deserts & $\\dots$ \\\\\n",
       "\t18 & 1 & 2008 & ARIZONA STRIP DISTRICT OFFICE & ARIZONA STRIP FIELD OFFICE & E Cold Deserts & $\\dots$ \\\\\n",
       "\t19 & 1 & 2009 & ARIZONA STRIP DISTRICT OFFICE & ARIZONA STRIP FIELD OFFICE & E Cold Deserts & $\\dots$ \\\\\n",
       "\t20 & 1 & 2010 & ARIZONA STRIP DISTRICT OFFICE & ARIZONA STRIP FIELD OFFICE & E Cold Deserts & $\\dots$ \\\\\n",
       "\t21 & 1 & 2011 & ARIZONA STRIP DISTRICT OFFICE & ARIZONA STRIP FIELD OFFICE & E Cold Deserts & $\\dots$ \\\\\n",
       "\t22 & 1 & 2012 & ARIZONA STRIP DISTRICT OFFICE & ARIZONA STRIP FIELD OFFICE & E Cold Deserts & $\\dots$ \\\\\n",
       "\t23 & 1 & 2013 & ARIZONA STRIP DISTRICT OFFICE & ARIZONA STRIP FIELD OFFICE & E Cold Deserts & $\\dots$ \\\\\n",
       "\t24 & 1 & 2014 & ARIZONA STRIP DISTRICT OFFICE & ARIZONA STRIP FIELD OFFICE & E Cold Deserts & $\\dots$ \\\\\n",
       "\t25 & 1 & 2015 & ARIZONA STRIP DISTRICT OFFICE & ARIZONA STRIP FIELD OFFICE & E Cold Deserts & $\\dots$ \\\\\n",
       "\t26 & 1 & 2016 & ARIZONA STRIP DISTRICT OFFICE & ARIZONA STRIP FIELD OFFICE & E Cold Deserts & $\\dots$ \\\\\n",
       "\t27 & 1 & 2017 & ARIZONA STRIP DISTRICT OFFICE & ARIZONA STRIP FIELD OFFICE & E Cold Deserts & $\\dots$ \\\\\n",
       "\t28 & 1 & 2018 & ARIZONA STRIP DISTRICT OFFICE & ARIZONA STRIP FIELD OFFICE & E Cold Deserts & $\\dots$ \\\\\n",
       "\t29 & 1 & 2019 & ARIZONA STRIP DISTRICT OFFICE & ARIZONA STRIP FIELD OFFICE & E Cold Deserts & $\\dots$ \\\\\n",
       "\t30 & 1 & 2020 & ARIZONA STRIP DISTRICT OFFICE & ARIZONA STRIP FIELD OFFICE & E Cold Deserts & $\\dots$ \\\\\n",
       "\t$\\dots$ & $\\dots$ & $\\dots$ & $\\dots$ & $\\dots$ & $\\dots$ &  \\\\\n",
       "\\end{tabular}\n"
      ],
      "text/plain": [
       "\u001b[1m625950×8 DataFrame\u001b[0m\n",
       "\u001b[1m    Row \u001b[0m│\u001b[1m uname \u001b[0m\u001b[1m year  \u001b[0m\u001b[1m district_label                    \u001b[0m\u001b[1m office_label       \u001b[0m ⋯\n",
       "\u001b[1m        \u001b[0m│\u001b[90m Int64 \u001b[0m\u001b[90m Int64 \u001b[0m\u001b[90m String                            \u001b[0m\u001b[90m String             \u001b[0m ⋯\n",
       "────────┼───────────────────────────────────────────────────────────────────────\n",
       "      1 │     1   1991  ARIZONA STRIP DISTRICT OFFICE      ARIZONA STRIP FIELD ⋯\n",
       "      2 │     1   1992  ARIZONA STRIP DISTRICT OFFICE      ARIZONA STRIP FIELD\n",
       "      3 │     1   1993  ARIZONA STRIP DISTRICT OFFICE      ARIZONA STRIP FIELD\n",
       "      4 │     1   1994  ARIZONA STRIP DISTRICT OFFICE      ARIZONA STRIP FIELD\n",
       "      5 │     1   1995  ARIZONA STRIP DISTRICT OFFICE      ARIZONA STRIP FIELD ⋯\n",
       "      6 │     1   1996  ARIZONA STRIP DISTRICT OFFICE      ARIZONA STRIP FIELD\n",
       "      7 │     1   1997  ARIZONA STRIP DISTRICT OFFICE      ARIZONA STRIP FIELD\n",
       "      8 │     1   1998  ARIZONA STRIP DISTRICT OFFICE      ARIZONA STRIP FIELD\n",
       "      9 │     1   1999  ARIZONA STRIP DISTRICT OFFICE      ARIZONA STRIP FIELD ⋯\n",
       "     10 │     1   2000  ARIZONA STRIP DISTRICT OFFICE      ARIZONA STRIP FIELD\n",
       "     11 │     1   2001  ARIZONA STRIP DISTRICT OFFICE      ARIZONA STRIP FIELD\n",
       "   ⋮    │   ⋮      ⋮                    ⋮                              ⋮       ⋱\n",
       " 625941 │ 20933   2007  WIND RIVER BIGHORN BASIN DISTRICT  LANDER FIELD OFFICE\n",
       " 625942 │ 20933   2008  WIND RIVER BIGHORN BASIN DISTRICT  LANDER FIELD OFFICE ⋯\n",
       " 625943 │ 20933   2009  WIND RIVER BIGHORN BASIN DISTRICT  LANDER FIELD OFFICE\n",
       " 625944 │ 20933   2010  WIND RIVER BIGHORN BASIN DISTRICT  LANDER FIELD OFFICE\n",
       " 625945 │ 20933   2011  WIND RIVER BIGHORN BASIN DISTRICT  LANDER FIELD OFFICE\n",
       " 625946 │ 20933   2020  WIND RIVER BIGHORN BASIN DISTRICT  LANDER FIELD OFFICE ⋯\n",
       " 625947 │ 20933   2019  WIND RIVER BIGHORN BASIN DISTRICT  LANDER FIELD OFFICE\n",
       " 625948 │ 20933   2018  WIND RIVER BIGHORN BASIN DISTRICT  LANDER FIELD OFFICE\n",
       " 625949 │ 20933   2017  WIND RIVER BIGHORN BASIN DISTRICT  LANDER FIELD OFFICE\n",
       " 625950 │ 20933   2016  WIND RIVER BIGHORN BASIN DISTRICT  LANDER FIELD OFFICE ⋯\n",
       "\u001b[36m                                               5 columns and 625929 rows omitted\u001b[0m"
      ]
     },
     "execution_count": 34,
     "metadata": {},
     "output_type": "execute_result"
    }
   ],
   "source": [
    "df2 = df[:, [2,3,6,7,8,9,11,13]]"
   ]
  },
  {
   "cell_type": "code",
   "execution_count": 35,
   "metadata": {},
   "outputs": [
    {
     "data": {
      "text/plain": [
       "625950-element Vector{String}:\n",
       " \"1\"\n",
       " \"1\"\n",
       " \"1\"\n",
       " \"1\"\n",
       " \"1\"\n",
       " \"1\"\n",
       " \"1\"\n",
       " \"1\"\n",
       " \"1\"\n",
       " \"1\"\n",
       " \"1\"\n",
       " \"1\"\n",
       " \"1\"\n",
       " ⋮\n",
       " \"20933\"\n",
       " \"20933\"\n",
       " \"20933\"\n",
       " \"20933\"\n",
       " \"20933\"\n",
       " \"20933\"\n",
       " \"20933\"\n",
       " \"20933\"\n",
       " \"20933\"\n",
       " \"20933\"\n",
       " \"20933\"\n",
       " \"20933\""
      ]
     },
     "execution_count": 35,
     "metadata": {},
     "output_type": "execute_result"
    }
   ],
   "source": [
    "df2[!,:uname] = string.(df2[:,:uname])"
   ]
  },
  {
   "cell_type": "code",
   "execution_count": 36,
   "metadata": {},
   "outputs": [
    {
     "data": {
      "text/plain": [
       "625950-element Vector{String}:\n",
       " \"1991\"\n",
       " \"1992\"\n",
       " \"1993\"\n",
       " \"1994\"\n",
       " \"1995\"\n",
       " \"1996\"\n",
       " \"1997\"\n",
       " \"1998\"\n",
       " \"1999\"\n",
       " \"2000\"\n",
       " \"2001\"\n",
       " \"2002\"\n",
       " \"2003\"\n",
       " ⋮\n",
       " \"2005\"\n",
       " \"2006\"\n",
       " \"2007\"\n",
       " \"2008\"\n",
       " \"2009\"\n",
       " \"2010\"\n",
       " \"2011\"\n",
       " \"2020\"\n",
       " \"2019\"\n",
       " \"2018\"\n",
       " \"2017\"\n",
       " \"2016\""
      ]
     },
     "execution_count": 36,
     "metadata": {},
     "output_type": "execute_result"
    }
   ],
   "source": [
    "df2[!,:year] = string.(df2[:,:year])"
   ]
  },
  {
   "cell_type": "code",
   "execution_count": 37,
   "metadata": {},
   "outputs": [
    {
     "data": {
      "text/plain": [
       "625950-element CategoricalArray{String,1,UInt32}:\n",
       " \"1991\"\n",
       " \"1992\"\n",
       " \"1993\"\n",
       " \"1994\"\n",
       " \"1995\"\n",
       " \"1996\"\n",
       " \"1997\"\n",
       " \"1998\"\n",
       " \"1999\"\n",
       " \"2000\"\n",
       " \"2001\"\n",
       " \"2002\"\n",
       " \"2003\"\n",
       " ⋮\n",
       " \"2005\"\n",
       " \"2006\"\n",
       " \"2007\"\n",
       " \"2008\"\n",
       " \"2009\"\n",
       " \"2010\"\n",
       " \"2011\"\n",
       " \"2020\"\n",
       " \"2019\"\n",
       " \"2018\"\n",
       " \"2017\"\n",
       " \"2016\""
      ]
     },
     "execution_count": 37,
     "metadata": {},
     "output_type": "execute_result"
    }
   ],
   "source": [
    "df2[!,:year] = CategoricalArray(df2[:,:year])"
   ]
  },
  {
   "cell_type": "code",
   "execution_count": 38,
   "metadata": {},
   "outputs": [
    {
     "data": {
      "text/plain": [
       "625950-element CategoricalArray{String,1,UInt32}:\n",
       " \"1\"\n",
       " \"1\"\n",
       " \"1\"\n",
       " \"1\"\n",
       " \"1\"\n",
       " \"1\"\n",
       " \"1\"\n",
       " \"1\"\n",
       " \"1\"\n",
       " \"1\"\n",
       " \"1\"\n",
       " \"1\"\n",
       " \"1\"\n",
       " ⋮\n",
       " \"20933\"\n",
       " \"20933\"\n",
       " \"20933\"\n",
       " \"20933\"\n",
       " \"20933\"\n",
       " \"20933\"\n",
       " \"20933\"\n",
       " \"20933\"\n",
       " \"20933\"\n",
       " \"20933\"\n",
       " \"20933\"\n",
       " \"20933\""
      ]
     },
     "execution_count": 38,
     "metadata": {},
     "output_type": "execute_result"
    }
   ],
   "source": [
    "df2[!,:uname] = CategoricalArray(df2[:,:uname])"
   ]
  },
  {
   "cell_type": "code",
   "execution_count": 39,
   "metadata": {},
   "outputs": [
    {
     "data": {
      "text/plain": [
       "625950-element CategoricalArray{String,1,UInt32}:\n",
       " \"ARIZONA STRIP DISTRICT OFFICE\"\n",
       " \"ARIZONA STRIP DISTRICT OFFICE\"\n",
       " \"ARIZONA STRIP DISTRICT OFFICE\"\n",
       " \"ARIZONA STRIP DISTRICT OFFICE\"\n",
       " \"ARIZONA STRIP DISTRICT OFFICE\"\n",
       " \"ARIZONA STRIP DISTRICT OFFICE\"\n",
       " \"ARIZONA STRIP DISTRICT OFFICE\"\n",
       " \"ARIZONA STRIP DISTRICT OFFICE\"\n",
       " \"ARIZONA STRIP DISTRICT OFFICE\"\n",
       " \"ARIZONA STRIP DISTRICT OFFICE\"\n",
       " \"ARIZONA STRIP DISTRICT OFFICE\"\n",
       " \"ARIZONA STRIP DISTRICT OFFICE\"\n",
       " \"ARIZONA STRIP DISTRICT OFFICE\"\n",
       " ⋮\n",
       " \"WIND RIVER BIGHORN BASIN DISTRICT\"\n",
       " \"WIND RIVER BIGHORN BASIN DISTRICT\"\n",
       " \"WIND RIVER BIGHORN BASIN DISTRICT\"\n",
       " \"WIND RIVER BIGHORN BASIN DISTRICT\"\n",
       " \"WIND RIVER BIGHORN BASIN DISTRICT\"\n",
       " \"WIND RIVER BIGHORN BASIN DISTRICT\"\n",
       " \"WIND RIVER BIGHORN BASIN DISTRICT\"\n",
       " \"WIND RIVER BIGHORN BASIN DISTRICT\"\n",
       " \"WIND RIVER BIGHORN BASIN DISTRICT\"\n",
       " \"WIND RIVER BIGHORN BASIN DISTRICT\"\n",
       " \"WIND RIVER BIGHORN BASIN DISTRICT\"\n",
       " \"WIND RIVER BIGHORN BASIN DISTRICT\""
      ]
     },
     "execution_count": 39,
     "metadata": {},
     "output_type": "execute_result"
    }
   ],
   "source": [
    "df2[!,:district_label] = CategoricalArray(df2[:,:district_label])"
   ]
  },
  {
   "cell_type": "code",
   "execution_count": 48,
   "metadata": {},
   "outputs": [
    {
     "data": {
      "text/plain": [
       "FormulaTerm\n",
       "Response:\n",
       "  value2(unknown)\n",
       "Predictors:\n",
       "  1\n",
       "  ecogroup(unknown)\n",
       "  year2(unknown)\n",
       "  (year2,uname)->(1 + year2) | uname\n",
       "  (year2,office_label)->(1 + year2) | office_label\n",
       "  ecogroup(unknown) & year2(unknown)"
      ]
     },
     "execution_count": 48,
     "metadata": {},
     "output_type": "execute_result"
    }
   ],
   "source": [
    "fm1 = @formula(value2 ~ 1 + ecogroup*year2 + (1 + year2|uname) + (1 + year2|office_label))\n",
    "m1 = fit(MixedModel, fm1, df2, REML = false )"
   ]
  },
  {
   "cell_type": "code",
   "execution_count": 58,
   "metadata": {},
   "outputs": [
    {
     "data": {
      "text/latex": [
       "\\begin{tabular}\n",
       "{l | r | r | r | r | r | r | r}\n",
       " & Est. & SE & z & p & $\\sigma_\\text{uname}$ & σ\\_office\\_label & $\\sigma_\\text{year}$ \\& climate\\_region \\\\\n",
       "\\hline\n",
       "(Intercept) & -0.2319 & 0.1085 & -2.14 & 0.0325 & 0.4464 & 1.0665 & 0.1727 \\\\\n",
       "year2 & 0.0243 & 0.0196 & 1.24 & 0.2159 & 0.0834 & 0.0996 &   \\\\\n",
       "ecogroup: E Cold Deserts & -0.5648 & 0.0308 & -18.33 & <1e-74 &   &   &   \\\\\n",
       "ecogroup: Great Plains & 0.0050 & 0.0320 & 0.16 & 0.8748 &   &   &   \\\\\n",
       "ecogroup: Mediterranean California & -0.6371 & 0.0790 & -8.06 & <1e-15 &   &   &   \\\\\n",
       "ecogroup: NW Forested Mts & -0.1771 & 0.0323 & -5.48 & <1e-07 &   &   &   \\\\\n",
       "ecogroup: W Cold Deserts & -0.4253 & 0.0356 & -11.96 & <1e-32 &   &   &   \\\\\n",
       "ecogroup: Warm Deserts & -0.8107 & 0.0249 & -32.52 & <1e-99 &   &   &   \\\\\n",
       "year2 \\& ecogroup: E Cold Deserts & 0.0125 & 0.0066 & 1.89 & 0.0583 &   &   &   \\\\\n",
       "year2 \\& ecogroup: Great Plains & 0.0142 & 0.0069 & 2.06 & 0.0390 &   &   &   \\\\\n",
       "year2 \\& ecogroup: Mediterranean California & -0.4292 & 0.0165 & -25.96 & <1e-99 &   &   &   \\\\\n",
       "year2 \\& ecogroup: NW Forested Mts & -0.0327 & 0.0069 & -4.73 & <1e-05 &   &   &   \\\\\n",
       "year2 \\& ecogroup: W Cold Deserts & -0.0248 & 0.0076 & -3.26 & 0.0011 &   &   &   \\\\\n",
       "year2 \\& ecogroup: Warm Deserts & -0.0574 & 0.0054 & -10.70 & <1e-25 &   &   &   \\\\\n",
       "Residual & 0.2686 &  &  &  &  &  &  \\\\\n",
       "\\end{tabular}\n"
      ],
      "text/markdown": [
       "|                                            |    Est. |     SE |      z |      p | σ_uname | σ_office_label | σ_year & climate_region |\n",
       "|:------------------------------------------ | -------:| ------:| ------:| ------:| -------:| --------------:| -----------------------:|\n",
       "| (Intercept)                                | -0.2319 | 0.1085 |  -2.14 | 0.0325 |  0.4464 |         1.0665 |                  0.1727 |\n",
       "| year2                                      |  0.0243 | 0.0196 |   1.24 | 0.2159 |  0.0834 |         0.0996 |                         |\n",
       "| ecogroup: E Cold Deserts                   | -0.5648 | 0.0308 | -18.33 | <1e-74 |         |                |                         |\n",
       "| ecogroup: Great Plains                     |  0.0050 | 0.0320 |   0.16 | 0.8748 |         |                |                         |\n",
       "| ecogroup: Mediterranean California         | -0.6371 | 0.0790 |  -8.06 | <1e-15 |         |                |                         |\n",
       "| ecogroup: NW Forested Mts                  | -0.1771 | 0.0323 |  -5.48 | <1e-07 |         |                |                         |\n",
       "| ecogroup: W Cold Deserts                   | -0.4253 | 0.0356 | -11.96 | <1e-32 |         |                |                         |\n",
       "| ecogroup: Warm Deserts                     | -0.8107 | 0.0249 | -32.52 | <1e-99 |         |                |                         |\n",
       "| year2 & ecogroup: E Cold Deserts           |  0.0125 | 0.0066 |   1.89 | 0.0583 |         |                |                         |\n",
       "| year2 & ecogroup: Great Plains             |  0.0142 | 0.0069 |   2.06 | 0.0390 |         |                |                         |\n",
       "| year2 & ecogroup: Mediterranean California | -0.4292 | 0.0165 | -25.96 | <1e-99 |         |                |                         |\n",
       "| year2 & ecogroup: NW Forested Mts          | -0.0327 | 0.0069 |  -4.73 | <1e-05 |         |                |                         |\n",
       "| year2 & ecogroup: W Cold Deserts           | -0.0248 | 0.0076 |  -3.26 | 0.0011 |         |                |                         |\n",
       "| year2 & ecogroup: Warm Deserts             | -0.0574 | 0.0054 | -10.70 | <1e-25 |         |                |                         |\n",
       "| Residual                                   |  0.2686 |        |        |        |         |                |                         |\n"
      ],
      "text/plain": [
       "Linear mixed model fit by maximum likelihood\n",
       " value2 ~ 1 + year2 + ecogroup + year2 & ecogroup + (1 + year2 | office_label) + (1 + year2 | uname) + (1 | year & climate_region)\n",
       "    logLik     -2 logLik       AIC         AICc          BIC     \n",
       " -126418.9391  252837.8783  252881.8783  252881.8799  253131.5128\n",
       "\n",
       "Variance components:\n",
       "                         Column    Variance  Std.Dev.   Corr.\n",
       "uname                 (Intercept)  0.1992732 0.4464003\n",
       "                      year2        0.0069635 0.0834478 +0.19\n",
       "office_label          (Intercept)  1.1373913 1.0664855\n",
       "                      year2        0.0099174 0.0995864 +0.35\n",
       "year & climate_region (Intercept)  0.0298184 0.1726801\n",
       "Residual                           0.0721295 0.2685693\n",
       " Number of obs: 625950; levels of grouping factors: 20865, 107, 120\n",
       "\n",
       "  Fixed-effects parameters:\n",
       "─────────────────────────────────────────────────────────────────────────────────────\n",
       "                                                  Coef.  Std. Error       z  Pr(>|z|)\n",
       "─────────────────────────────────────────────────────────────────────────────────────\n",
       "(Intercept)                                 -0.231942    0.108452     -2.14    0.0325\n",
       "year2                                        0.0242734   0.0196131     1.24    0.2159\n",
       "ecogroup: E Cold Deserts                    -0.564789    0.0308165   -18.33    <1e-74\n",
       "ecogroup: Great Plains                       0.00504296  0.0320185     0.16    0.8748\n",
       "ecogroup: Mediterranean California          -0.637127    0.0790051    -8.06    <1e-15\n",
       "ecogroup: NW Forested Mts                   -0.177127    0.0323348    -5.48    <1e-07\n",
       "ecogroup: W Cold Deserts                    -0.425342    0.0355763   -11.96    <1e-32\n",
       "ecogroup: Warm Deserts                      -0.810654    0.0249305   -32.52    <1e-99\n",
       "year2 & ecogroup: E Cold Deserts             0.0125      0.0066029     1.89    0.0583\n",
       "year2 & ecogroup: Great Plains               0.0141821   0.0068699     2.06    0.0390\n",
       "year2 & ecogroup: Mediterranean California  -0.429163    0.0165296   -25.96    <1e-99\n",
       "year2 & ecogroup: NW Forested Mts           -0.0327411   0.00692459   -4.73    <1e-05\n",
       "year2 & ecogroup: W Cold Deserts            -0.0248453   0.00761077   -3.26    0.0011\n",
       "year2 & ecogroup: Warm Deserts              -0.0574357   0.00536833  -10.70    <1e-25\n",
       "─────────────────────────────────────────────────────────────────────────────────────"
      ]
     },
     "execution_count": 58,
     "metadata": {},
     "output_type": "execute_result"
    }
   ],
   "source": [
    "fm2 = @formula(value2 ~ 1 + year2*ecogroup + (1 + year2|office_label) + (1 + year2|uname) + (1|year&climate_region))\n",
    "m2 = fit(MixedModel, fm2, df2)"
   ]
  },
  {
   "cell_type": "code",
   "execution_count": 59,
   "metadata": {},
   "outputs": [
    {
     "data": {
      "text/latex": [
       "\\begin{tabular}\n",
       "{l | l | r | r | r}\n",
       "  & Column &  Variance & Std.Dev & Corr. \\\\\n",
       "\\hline\n",
       "uname & (Intercept) & 0.1992732 & 0.4464003 &   \\\\\n",
       "  & year2 & 0.0069635 & 0.0834478 & +0.19 \\\\\n",
       "office\\_label & (Intercept) & 1.1373913 & 1.0664855 &   \\\\\n",
       "  & year2 & 0.0099174 & 0.0995864 & +0.35 \\\\\n",
       "year \\& climate\\_region & (Intercept) & 0.0298184 & 0.1726801 &   \\\\\n",
       "Residual &   & 0.0721295 & 0.2685693 &   \\\\\n",
       "\\end{tabular}\n"
      ],
      "text/markdown": [
       "|                       | Column      |  Variance |   Std.Dev | Corr. |\n",
       "|:--------------------- |:----------- | ---------:| ---------:| -----:|\n",
       "| uname                 | (Intercept) | 0.1992732 | 0.4464003 |       |\n",
       "|                       | year2       | 0.0069635 | 0.0834478 | +0.19 |\n",
       "| office_label          | (Intercept) | 1.1373913 | 1.0664855 |       |\n",
       "|                       | year2       | 0.0099174 | 0.0995864 | +0.35 |\n",
       "| year & climate_region | (Intercept) | 0.0298184 | 0.1726801 |       |\n",
       "| Residual              |             | 0.0721295 | 0.2685693 |       |\n"
      ],
      "text/plain": [
       "Variance components:\n",
       "                         Column    Variance  Std.Dev.   Corr.\n",
       "uname                 (Intercept)  0.1992732 0.4464003\n",
       "                      year2        0.0069635 0.0834478 +0.19\n",
       "office_label          (Intercept)  1.1373913 1.0664855\n",
       "                      year2        0.0099174 0.0995864 +0.35\n",
       "year & climate_region (Intercept)  0.0298184 0.1726801\n",
       "Residual                           0.0721295 0.2685693\n"
      ]
     },
     "execution_count": 59,
     "metadata": {},
     "output_type": "execute_result"
    }
   ],
   "source": [
    "VarCorr(m2)"
   ]
  },
  {
   "cell_type": "code",
   "execution_count": 61,
   "metadata": {},
   "outputs": [
    {
     "data": {
      "text/latex": [
       "\\begin{tabular}\n",
       "{l | r | r | r | r | r | r}\n",
       " & Est. & SE & z & p & $\\sigma_\\text{uname}$ & σ\\_office\\_label \\\\\n",
       "\\hline\n",
       "(Intercept) & -0.2604 & 0.1093 & -2.38 & 0.0172 & 0.4458 & 1.0900 \\\\\n",
       "ecogroup: E Cold Deserts & -0.5751 & 0.0304 & -18.91 & <1e-79 &   &   \\\\\n",
       "ecogroup: Great Plains & -0.0068 & 0.0316 & -0.21 & 0.8304 &   &   \\\\\n",
       "ecogroup: Mediterranean California & -0.2992 & 0.0779 & -3.84 & 0.0001 &   &   \\\\\n",
       "ecogroup: NW Forested Mts & -0.1538 & 0.0319 & -4.82 & <1e-05 &   &   \\\\\n",
       "ecogroup: W Cold Deserts & -0.4092 & 0.0351 & -11.66 & <1e-30 &   &   \\\\\n",
       "ecogroup: Warm Deserts & -0.7675 & 0.0246 & -31.20 & <1e-99 &   &   \\\\\n",
       "year2 & -0.0194 & 0.0110 & -1.77 & 0.0764 & 0.0817 & 0.1124 \\\\\n",
       "Residual & 0.3104 &  &  &  &  &  \\\\\n",
       "\\end{tabular}\n"
      ],
      "text/markdown": [
       "|                                    |    Est. |     SE |      z |      p | σ_uname | σ_office_label |\n",
       "|:---------------------------------- | -------:| ------:| ------:| ------:| -------:| --------------:|\n",
       "| (Intercept)                        | -0.2604 | 0.1093 |  -2.38 | 0.0172 |  0.4458 |         1.0900 |\n",
       "| ecogroup: E Cold Deserts           | -0.5751 | 0.0304 | -18.91 | <1e-79 |         |                |\n",
       "| ecogroup: Great Plains             | -0.0068 | 0.0316 |  -0.21 | 0.8304 |         |                |\n",
       "| ecogroup: Mediterranean California | -0.2992 | 0.0779 |  -3.84 | 0.0001 |         |                |\n",
       "| ecogroup: NW Forested Mts          | -0.1538 | 0.0319 |  -4.82 | <1e-05 |         |                |\n",
       "| ecogroup: W Cold Deserts           | -0.4092 | 0.0351 | -11.66 | <1e-30 |         |                |\n",
       "| ecogroup: Warm Deserts             | -0.7675 | 0.0246 | -31.20 | <1e-99 |         |                |\n",
       "| year2                              | -0.0194 | 0.0110 |  -1.77 | 0.0764 |  0.0817 |         0.1124 |\n",
       "| Residual                           |  0.3104 |        |        |        |         |                |\n"
      ],
      "text/plain": [
       "Linear mixed model fit by maximum likelihood\n",
       " value2 ~ 1 + ecogroup + year2 + (1 + year2 | uname) + (1 + year2 | office_label)\n",
       "    logLik     -2 logLik       AIC         AICc          BIC     \n",
       " -211183.2956  422366.5911  422396.5911  422396.5919  422566.7965\n",
       "\n",
       "Variance components:\n",
       "                Column    Variance  Std.Dev.   Corr.\n",
       "uname        (Intercept)  0.1987547 0.4458191\n",
       "             year2        0.0066742 0.0816956 +0.20\n",
       "office_label (Intercept)  1.1880760 1.0899890\n",
       "             year2        0.0126367 0.1124132 +0.39\n",
       "Residual                  0.0963629 0.3104237\n",
       " Number of obs: 625950; levels of grouping factors: 20865, 107\n",
       "\n",
       "  Fixed-effects parameters:\n",
       "─────────────────────────────────────────────────────────────────────────────\n",
       "                                          Coef.  Std. Error       z  Pr(>|z|)\n",
       "─────────────────────────────────────────────────────────────────────────────\n",
       "(Intercept)                         -0.260411     0.109334    -2.38    0.0172\n",
       "ecogroup: E Cold Deserts            -0.575084     0.0304048  -18.91    <1e-79\n",
       "ecogroup: Great Plains              -0.00676702   0.031591    -0.21    0.8304\n",
       "ecogroup: Mediterranean California  -0.29916      0.0778983   -3.84    0.0001\n",
       "ecogroup: NW Forested Mts           -0.153772     0.0319014   -4.82    <1e-05\n",
       "ecogroup: W Cold Deserts            -0.409159     0.0350975  -11.66    <1e-30\n",
       "ecogroup: Warm Deserts              -0.767462     0.0246003  -31.20    <1e-99\n",
       "year2                               -0.0194194    0.0109603   -1.77    0.0764\n",
       "─────────────────────────────────────────────────────────────────────────────"
      ]
     },
     "execution_count": 61,
     "metadata": {},
     "output_type": "execute_result"
    }
   ],
   "source": [
    "fm3 = @formula(value2 ~ 1 + ecogroup + year2 + (1 + year2|uname) + (1 + year2|office_label))\n",
    "m3 = fit(MixedModel, fm3, df2, REML = false)"
   ]
  },
  {
   "cell_type": "code",
   "execution_count": 62,
   "metadata": {},
   "outputs": [
    {
     "data": {
      "text/latex": [
       "\\begin{tabular}\n",
       "{l | r | r | r | r | l}\n",
       " & model-dof & deviance & $\\chi^2$ & $\\chi^2$-dof & P(>$\\chi^2$) \\\\\n",
       "\\hline\n",
       "value2 {\\textasciitilde} 1 + ecogroup + year2 + (1 + year2 | uname) + (1 + year2 | office\\_label) & 15 & 422367 &   &   &   \\\\\n",
       "value2 {\\textasciitilde} 1 + ecogroup + year2 + ecogroup \\& year2 + (1 + year2 | uname) + (1 + year2 | office\\_label) & 21 & 421266 & 1101 & 6 & <1e-99 \\\\\n",
       "\\end{tabular}\n"
      ],
      "text/markdown": [
       "|                                                                                                       | model-dof | deviance |   χ² | χ²-dof | P(>χ²) |\n",
       "|:----------------------------------------------------------------------------------------------------- | ---------:| --------:| ----:| ------:|:------ |\n",
       "| value2 ~ 1 + ecogroup + year2 + (1 + year2 \\| uname) + (1 + year2 \\| office_label)                    |        15 |   422367 |      |        |        |\n",
       "| value2 ~ 1 + ecogroup + year2 + ecogroup & year2 + (1 + year2 \\| uname) + (1 + year2 \\| office_label) |        21 |   421266 | 1101 |      6 | <1e-99 |\n"
      ],
      "text/plain": [
       "Model Formulae\n",
       "1: value2 ~ 1 + ecogroup + year2 + (1 + year2 | uname) + (1 + year2 | office_label)\n",
       "2: value2 ~ 1 + ecogroup + year2 + ecogroup & year2 + (1 + year2 | uname) + (1 + year2 | office_label)\n",
       "──────────────────────────────────────────────────────\n",
       "     model-dof    -2 logLik         χ²  χ²-dof  P(>χ²)\n",
       "──────────────────────────────────────────────────────\n",
       "[1]         15  422366.5911                           \n",
       "[2]         21  421265.7258  1100.8653       6  <1e-99\n",
       "──────────────────────────────────────────────────────"
      ]
     },
     "execution_count": 62,
     "metadata": {},
     "output_type": "execute_result"
    }
   ],
   "source": [
    "MixedModels.likelihoodratiotest(m1,m3)"
   ]
  },
  {
   "cell_type": "code",
   "execution_count": 56,
   "metadata": {},
   "outputs": [
    {
     "data": {
      "text/latex": [
       "\\begin{tabular}\n",
       "{l | r | r | r | r | l}\n",
       " & model-dof & deviance & $\\chi^2$ & $\\chi^2$-dof & P(>$\\chi^2$) \\\\\n",
       "\\hline\n",
       "value2 {\\textasciitilde} 1 + ecogroup + year2 + (1 + year2 | uname) + (1 + year2 | office\\_label) & 15 & 422367 &   &   &   \\\\\n",
       "value2 {\\textasciitilde} 1 + ecogroup + year2 + ecogroup \\& year2 + (1 + year2 | uname) + (1 + year2 | office\\_label) & 21 & 421266 & 1101 & 6 & <1e-99 \\\\\n",
       "\\end{tabular}\n"
      ],
      "text/markdown": [
       "|                                                                                                       | model-dof | deviance |   χ² | χ²-dof | P(>χ²) |\n",
       "|:----------------------------------------------------------------------------------------------------- | ---------:| --------:| ----:| ------:|:------ |\n",
       "| value2 ~ 1 + ecogroup + year2 + (1 + year2 \\| uname) + (1 + year2 \\| office_label)                    |        15 |   422367 |      |        |        |\n",
       "| value2 ~ 1 + ecogroup + year2 + ecogroup & year2 + (1 + year2 \\| uname) + (1 + year2 \\| office_label) |        21 |   421266 | 1101 |      6 | <1e-99 |\n"
      ],
      "text/plain": [
       "Model Formulae\n",
       "1: value2 ~ 1 + ecogroup + year2 + (1 + year2 | uname) + (1 + year2 | office_label)\n",
       "2: value2 ~ 1 + ecogroup + year2 + ecogroup & year2 + (1 + year2 | uname) + (1 + year2 | office_label)\n",
       "──────────────────────────────────────────────────────\n",
       "     model-dof    -2 logLik         χ²  χ²-dof  P(>χ²)\n",
       "──────────────────────────────────────────────────────\n",
       "[1]         15  422366.5911                           \n",
       "[2]         21  421265.7258  1100.8653       6  <1e-99\n",
       "──────────────────────────────────────────────────────"
      ]
     },
     "execution_count": 56,
     "metadata": {},
     "output_type": "execute_result"
    }
   ],
   "source": [
    "MixedModels.likelihoodratiotest(m1,m3)"
   ]
  },
  {
   "cell_type": "code",
   "execution_count": 27,
   "metadata": {
    "scrolled": true
   },
   "outputs": [
    {
     "data": {
      "text/latex": [
       "\\begin{tabular}\n",
       "{l | r | r | r | r | r | r | r}\n",
       " & Est. & SE & z & p & $\\sigma_\\text{uname}$ & σ\\_office\\_label & $\\sigma_\\text{year}$ \\& climate\\_region \\\\\n",
       "\\hline\n",
       "(Intercept) & -0.2319 & 0.1085 & -2.14 & 0.0325 & 0.4464 & 1.0666 & 0.1727 \\\\\n",
       "ecogroup: E Cold Deserts & -0.5648 & 0.0308 & -18.33 & <1e-74 &   &   &   \\\\\n",
       "ecogroup: Great Plains & 0.0050 & 0.0320 & 0.16 & 0.8749 &   &   &   \\\\\n",
       "ecogroup: Mediterranean California & -0.6371 & 0.0790 & -8.06 & <1e-15 &   &   &   \\\\\n",
       "ecogroup: NW Forested Mts & -0.1771 & 0.0323 & -5.48 & <1e-07 &   &   &   \\\\\n",
       "ecogroup: W Cold Deserts & -0.4253 & 0.0356 & -11.96 & <1e-32 &   &   &   \\\\\n",
       "ecogroup: Warm Deserts & -0.8107 & 0.0249 & -32.52 & <1e-99 &   &   &   \\\\\n",
       "year2 & 0.0243 & 0.0196 & 1.24 & 0.2159 & 0.0834 & 0.0996 &   \\\\\n",
       "ecogroup: E Cold Deserts \\& year2 & 0.0125 & 0.0066 & 1.89 & 0.0583 &   &   &   \\\\\n",
       "ecogroup: Great Plains \\& year2 & 0.0142 & 0.0069 & 2.06 & 0.0389 &   &   &   \\\\\n",
       "ecogroup: Mediterranean California \\& year2 & -0.4292 & 0.0165 & -25.96 & <1e-99 &   &   &   \\\\\n",
       "ecogroup: NW Forested Mts \\& year2 & -0.0327 & 0.0069 & -4.73 & <1e-05 &   &   &   \\\\\n",
       "ecogroup: W Cold Deserts \\& year2 & -0.0248 & 0.0076 & -3.26 & 0.0011 &   &   &   \\\\\n",
       "ecogroup: Warm Deserts \\& year2 & -0.0574 & 0.0054 & -10.70 & <1e-25 &   &   &   \\\\\n",
       "Residual & 0.2686 &  &  &  &  &  &  \\\\\n",
       "\\end{tabular}\n"
      ],
      "text/markdown": [
       "|                                            |    Est. |     SE |      z |      p | σ_uname | σ_office_label | σ_year & climate_region |\n",
       "|:------------------------------------------ | -------:| ------:| ------:| ------:| -------:| --------------:| -----------------------:|\n",
       "| (Intercept)                                | -0.2319 | 0.1085 |  -2.14 | 0.0325 |  0.4464 |         1.0666 |                  0.1727 |\n",
       "| ecogroup: E Cold Deserts                   | -0.5648 | 0.0308 | -18.33 | <1e-74 |         |                |                         |\n",
       "| ecogroup: Great Plains                     |  0.0050 | 0.0320 |   0.16 | 0.8749 |         |                |                         |\n",
       "| ecogroup: Mediterranean California         | -0.6371 | 0.0790 |  -8.06 | <1e-15 |         |                |                         |\n",
       "| ecogroup: NW Forested Mts                  | -0.1771 | 0.0323 |  -5.48 | <1e-07 |         |                |                         |\n",
       "| ecogroup: W Cold Deserts                   | -0.4253 | 0.0356 | -11.96 | <1e-32 |         |                |                         |\n",
       "| ecogroup: Warm Deserts                     | -0.8107 | 0.0249 | -32.52 | <1e-99 |         |                |                         |\n",
       "| year2                                      |  0.0243 | 0.0196 |   1.24 | 0.2159 |  0.0834 |         0.0996 |                         |\n",
       "| ecogroup: E Cold Deserts & year2           |  0.0125 | 0.0066 |   1.89 | 0.0583 |         |                |                         |\n",
       "| ecogroup: Great Plains & year2             |  0.0142 | 0.0069 |   2.06 | 0.0389 |         |                |                         |\n",
       "| ecogroup: Mediterranean California & year2 | -0.4292 | 0.0165 | -25.96 | <1e-99 |         |                |                         |\n",
       "| ecogroup: NW Forested Mts & year2          | -0.0327 | 0.0069 |  -4.73 | <1e-05 |         |                |                         |\n",
       "| ecogroup: W Cold Deserts & year2           | -0.0248 | 0.0076 |  -3.26 | 0.0011 |         |                |                         |\n",
       "| ecogroup: Warm Deserts & year2             | -0.0574 | 0.0054 | -10.70 | <1e-25 |         |                |                         |\n",
       "| Residual                                   |  0.2686 |        |        |        |         |                |                         |\n"
      ],
      "text/plain": [
       "Linear mixed model fit by maximum likelihood\n",
       " value2 ~ 1 + ecogroup + year2 + ecogroup & year2 + (1 + year2 | office_label) + (1 + year2 | uname) + (1 | year & climate_region)\n",
       "    logLik     -2 logLik       AIC         AICc          BIC     \n",
       " -126418.9390  252837.8780  252881.8780  252881.8796  253131.5126\n",
       "\n",
       "Variance components:\n",
       "                         Column    Variance  Std.Dev.   Corr.\n",
       "uname                 (Intercept)  0.1992872 0.4464160\n",
       "                      year2        0.0069633 0.0834465 +0.19\n",
       "office_label          (Intercept)  1.1376290 1.0665969\n",
       "                      year2        0.0099204 0.0996011 +0.35\n",
       "year & climate_region (Intercept)  0.0298382 0.1727374\n",
       "Residual                           0.0721293 0.2685690\n",
       " Number of obs: 625950; levels of grouping factors: 20865, 107, 120\n",
       "\n",
       "  Fixed-effects parameters:\n",
       "─────────────────────────────────────────────────────────────────────────────────────\n",
       "                                                  Coef.  Std. Error       z  Pr(>|z|)\n",
       "─────────────────────────────────────────────────────────────────────────────────────\n",
       "(Intercept)                                 -0.231943    0.108463     -2.14    0.0325\n",
       "ecogroup: E Cold Deserts                    -0.564792    0.0308176   -18.33    <1e-74\n",
       "ecogroup: Great Plains                       0.00504091  0.0320196     0.16    0.8749\n",
       "ecogroup: Mediterranean California          -0.637097    0.0790079    -8.06    <1e-15\n",
       "ecogroup: NW Forested Mts                   -0.177128    0.0323359    -5.48    <1e-07\n",
       "ecogroup: W Cold Deserts                    -0.425342    0.0355776   -11.96    <1e-32\n",
       "ecogroup: Warm Deserts                      -0.810654    0.0249314   -32.52    <1e-99\n",
       "year2                                        0.0242772   0.019618      1.24    0.2159\n",
       "ecogroup: E Cold Deserts & year2             0.0125037   0.00660287    1.89    0.0583\n",
       "ecogroup: Great Plains & year2               0.0141858   0.00686985    2.06    0.0389\n",
       "ecogroup: Mediterranean California & year2  -0.429169    0.0165299   -25.96    <1e-99\n",
       "ecogroup: NW Forested Mts & year2           -0.0327377   0.00692456   -4.73    <1e-05\n",
       "ecogroup: W Cold Deserts & year2            -0.0248429   0.00761074   -3.26    0.0011\n",
       "ecogroup: Warm Deserts & year2              -0.0574366   0.00536827  -10.70    <1e-25\n",
       "─────────────────────────────────────────────────────────────────────────────────────"
      ]
     },
     "execution_count": 27,
     "metadata": {},
     "output_type": "execute_result"
    }
   ],
   "source": [
    "fmFull = @formula(value2 ~ 1 + ecogroup*year2 + (1 + year2|office_label) + (1 + year2|uname) + (1|year&climate_region))\n",
    "mFull = fit(MixedModel, fmFull, df2)"
   ]
  },
  {
   "cell_type": "code",
   "execution_count": null,
   "metadata": {},
   "outputs": [],
   "source": [
    "MixedModels.likelihoodratiotest(m1,m2, m3, mfull)"
   ]
  },
  {
   "cell_type": "code",
   "execution_count": null,
   "metadata": {},
   "outputs": [],
   "source": []
  },
  {
   "cell_type": "code",
   "execution_count": 37,
   "metadata": {},
   "outputs": [
    {
     "name": "stderr",
     "output_type": "stream",
     "text": [
      "\u001b[32mProgress: 100%|█████████████████████████████████████████| Time: 2:06:05\u001b[39m\n"
     ]
    },
    {
     "data": {
      "text/html": [
       "<div class=\"data-frame\"><p>10 rows × 5 columns</p><table class=\"data-frame\"><thead><tr><th></th><th>iter</th><th>type</th><th>group</th><th>names</th><th>value</th></tr><tr><th></th><th title=\"Int64\">Int64</th><th title=\"String\">String</th><th title=\"Union{Missing, String}\">String?</th><th title=\"Union{Missing, String}\">String?</th><th title=\"Float64\">Float64</th></tr></thead><tbody><tr><th>1</th><td>1</td><td>β</td><td><em>missing</em></td><td>(Intercept)</td><td>-0.412293</td></tr><tr><th>2</th><td>1</td><td>β</td><td><em>missing</em></td><td>ecogroup: E Cold Deserts</td><td>-0.520901</td></tr><tr><th>3</th><td>1</td><td>β</td><td><em>missing</em></td><td>ecogroup: Great Plains</td><td>0.0449532</td></tr><tr><th>4</th><td>1</td><td>β</td><td><em>missing</em></td><td>ecogroup: Mediterranean California</td><td>-0.544771</td></tr><tr><th>5</th><td>1</td><td>β</td><td><em>missing</em></td><td>ecogroup: NW Forested Mts</td><td>-0.136297</td></tr><tr><th>6</th><td>1</td><td>β</td><td><em>missing</em></td><td>ecogroup: W Cold Deserts</td><td>-0.393425</td></tr><tr><th>7</th><td>1</td><td>β</td><td><em>missing</em></td><td>ecogroup: Warm Deserts</td><td>-0.807696</td></tr><tr><th>8</th><td>1</td><td>β</td><td><em>missing</em></td><td>year2</td><td>0.00191755</td></tr><tr><th>9</th><td>1</td><td>β</td><td><em>missing</em></td><td>ecogroup: E Cold Deserts &amp; year2</td><td>0.00793863</td></tr><tr><th>10</th><td>1</td><td>β</td><td><em>missing</em></td><td>ecogroup: Great Plains &amp; year2</td><td>0.00981271</td></tr></tbody></table></div>"
      ],
      "text/latex": [
       "\\begin{tabular}{r|ccccc}\n",
       "\t& iter & type & group & names & value\\\\\n",
       "\t\\hline\n",
       "\t& Int64 & String & String? & String? & Float64\\\\\n",
       "\t\\hline\n",
       "\t1 & 1 & β & \\emph{missing} & (Intercept) & -0.412293 \\\\\n",
       "\t2 & 1 & β & \\emph{missing} & ecogroup: E Cold Deserts & -0.520901 \\\\\n",
       "\t3 & 1 & β & \\emph{missing} & ecogroup: Great Plains & 0.0449532 \\\\\n",
       "\t4 & 1 & β & \\emph{missing} & ecogroup: Mediterranean California & -0.544771 \\\\\n",
       "\t5 & 1 & β & \\emph{missing} & ecogroup: NW Forested Mts & -0.136297 \\\\\n",
       "\t6 & 1 & β & \\emph{missing} & ecogroup: W Cold Deserts & -0.393425 \\\\\n",
       "\t7 & 1 & β & \\emph{missing} & ecogroup: Warm Deserts & -0.807696 \\\\\n",
       "\t8 & 1 & β & \\emph{missing} & year2 & 0.00191755 \\\\\n",
       "\t9 & 1 & β & \\emph{missing} & ecogroup: E Cold Deserts \\& year2 & 0.00793863 \\\\\n",
       "\t10 & 1 & β & \\emph{missing} & ecogroup: Great Plains \\& year2 & 0.00981271 \\\\\n",
       "\\end{tabular}\n"
      ],
      "text/plain": [
       "\u001b[1m10×5 DataFrame\u001b[0m\n",
       "\u001b[1m Row \u001b[0m│\u001b[1m iter  \u001b[0m\u001b[1m type   \u001b[0m\u001b[1m group   \u001b[0m\u001b[1m names                             \u001b[0m\u001b[1m value       \u001b[0m\n",
       "\u001b[1m     \u001b[0m│\u001b[90m Int64 \u001b[0m\u001b[90m String \u001b[0m\u001b[90m String? \u001b[0m\u001b[90m String?                           \u001b[0m\u001b[90m Float64     \u001b[0m\n",
       "─────┼────────────────────────────────────────────────────────────────────────\n",
       "   1 │     1  β      \u001b[90m missing \u001b[0m (Intercept)                        -0.412293\n",
       "   2 │     1  β      \u001b[90m missing \u001b[0m ecogroup: E Cold Deserts           -0.520901\n",
       "   3 │     1  β      \u001b[90m missing \u001b[0m ecogroup: Great Plains              0.0449532\n",
       "   4 │     1  β      \u001b[90m missing \u001b[0m ecogroup: Mediterranean Californ…  -0.544771\n",
       "   5 │     1  β      \u001b[90m missing \u001b[0m ecogroup: NW Forested Mts          -0.136297\n",
       "   6 │     1  β      \u001b[90m missing \u001b[0m ecogroup: W Cold Deserts           -0.393425\n",
       "   7 │     1  β      \u001b[90m missing \u001b[0m ecogroup: Warm Deserts             -0.807696\n",
       "   8 │     1  β      \u001b[90m missing \u001b[0m year2                               0.00191755\n",
       "   9 │     1  β      \u001b[90m missing \u001b[0m ecogroup: E Cold Deserts & year2    0.00793863\n",
       "  10 │     1  β      \u001b[90m missing \u001b[0m ecogroup: Great Plains & year2      0.00981271"
      ]
     },
     "execution_count": 37,
     "metadata": {},
     "output_type": "execute_result"
    }
   ],
   "source": [
    "const rng = MersenneTwister(1234321);\n",
    "samp = parametricbootstrap(rng, 100, mFull);\n",
    "df = DataFrame(samp.allpars);\n",
    "first(df, 10)"
   ]
  },
  {
   "cell_type": "code",
   "execution_count": 46,
   "metadata": {},
   "outputs": [
    {
     "data": {
      "text/plain": [
       "\"/users/andy/Dropbox/projects/BLM_rangeland_trends/output/julia_Bootstrap_afg_model.csv\""
      ]
     },
     "execution_count": 46,
     "metadata": {},
     "output_type": "execute_result"
    }
   ],
   "source": [
    "CSV.write(\"/users/andy/Dropbox/projects/BLM_rangeland_trends/output/julia_Bootstrap_afg_model.csv\", df)"
   ]
  },
  {
   "cell_type": "code",
   "execution_count": 40,
   "metadata": {},
   "outputs": [
    {
     "ename": "LoadError",
     "evalue": "ArgumentError: column name :σ not found in the data frame",
     "output_type": "error",
     "traceback": [
      "ArgumentError: column name :σ not found in the data frame",
      "",
      "Stacktrace:",
      "  [1] lookupname",
      "    @ ~/.julia/packages/DataFrames/vQokV/src/other/index.jl:288 [inlined]",
      "  [2] getindex",
      "    @ ~/.julia/packages/DataFrames/vQokV/src/other/index.jl:297 [inlined]",
      "  [3] getindex(df::DataFrame, row_inds::Colon, col_ind::Symbol)",
      "    @ DataFrames ~/.julia/packages/DataFrames/vQokV/src/dataframe/dataframe.jl:499",
      "  [4] evalmapping(source::DataFrame, arg::Symbol)",
      "    @ Gadfly ~/.julia/packages/Gadfly/zv8pp/src/dataframes.jl:70",
      "  [5] _evalmapping!(mapping::Dict{Symbol, Any}, data_source::DataFrame, data::Gadfly.Data)",
      "    @ Gadfly ~/.julia/packages/Gadfly/zv8pp/src/mapping.jl:204",
      "  [6] evalmapping!(mapping::Dict{Symbol, Any}, data_source::DataFrame, data::Gadfly.Data)",
      "    @ Gadfly ~/.julia/packages/Gadfly/zv8pp/src/mapping.jl:233",
      "  [7] plot(::DataFrame, ::Dict{Symbol, Symbol}, ::typeof(Gadfly.Geom.density), ::Gadfly.Guide.XLabel)",
      "    @ Gadfly ~/.julia/packages/Gadfly/zv8pp/src/Gadfly.jl:327",
      "  [8] #plot#77",
      "    @ ~/.julia/packages/Gadfly/zv8pp/src/Gadfly.jl:289 [inlined]",
      "  [9] top-level scope",
      "    @ In[40]:1",
      " [10] eval",
      "    @ ./boot.jl:360 [inlined]",
      " [11] include_string(mapexpr::typeof(REPL.softscope), mod::Module, code::String, filename::String)",
      "    @ Base ./loading.jl:1094"
     ]
    }
   ],
   "source": [
    "plot(df, x = :σ, Geom.density, Guide.xlabel(\"Parametric bootstrap estimates of σ\"))\n"
   ]
  },
  {
   "cell_type": "code",
   "execution_count": 179,
   "metadata": {},
   "outputs": [],
   "source": [
    "using RCall"
   ]
  },
  {
   "cell_type": "code",
   "execution_count": null,
   "metadata": {},
   "outputs": [],
   "source": []
  },
  {
   "cell_type": "code",
   "execution_count": null,
   "metadata": {},
   "outputs": [],
   "source": []
  },
  {
   "cell_type": "code",
   "execution_count": null,
   "metadata": {},
   "outputs": [],
   "source": []
  },
  {
   "cell_type": "code",
   "execution_count": null,
   "metadata": {},
   "outputs": [],
   "source": []
  },
  {
   "cell_type": "code",
   "execution_count": 180,
   "metadata": {},
   "outputs": [
    {
     "data": {
      "text/plain": [
       "RCall"
      ]
     },
     "execution_count": 180,
     "metadata": {},
     "output_type": "execute_result"
    }
   ],
   "source": [
    "RCall"
   ]
  },
  {
   "cell_type": "code",
   "execution_count": 181,
   "metadata": {},
   "outputs": [
    {
     "data": {
      "text/plain": [
       "RObject{StrSxp}\n",
       "[1] \"emmeans\"   \"stats\"     \"graphics\"  \"grDevices\" \"utils\"     \"datasets\" \n",
       "[7] \"methods\"   \"base\"     \n"
      ]
     },
     "execution_count": 181,
     "metadata": {},
     "output_type": "execute_result"
    }
   ],
   "source": [
    "R\"library(emmeans)\"\n"
   ]
  },
  {
   "cell_type": "code",
   "execution_count": 182,
   "metadata": {},
   "outputs": [
    {
     "name": "stderr",
     "output_type": "stream",
     "text": [
      "┌ Warning: RCall.jl: Loading required package: Matrix\n",
      "└ @ RCall /Users/andy/.julia/packages/RCall/3mHXJ/src/io.jl:160\n"
     ]
    },
    {
     "data": {
      "text/plain": [
       "RObject{StrSxp}\n",
       " [1] \"lme4\"      \"Matrix\"    \"emmeans\"   \"stats\"     \"graphics\"  \"grDevices\"\n",
       " [7] \"utils\"     \"datasets\"  \"methods\"   \"base\"     \n"
      ]
     },
     "execution_count": 182,
     "metadata": {},
     "output_type": "execute_result"
    }
   ],
   "source": [
    "R\"library(lme4)\""
   ]
  },
  {
   "cell_type": "code",
   "execution_count": 183,
   "metadata": {},
   "outputs": [
    {
     "ename": "LoadError",
     "evalue": "MethodError: no method matching sexpclass(::LinearMixedModel{Float64})\n\u001b[0mClosest candidates are:\n\u001b[0m  sexpclass(\u001b[91m::Complex\u001b[39m) at /Users/andy/.julia/packages/RCall/3mHXJ/src/convert/default.jl:236\n\u001b[0m  sexpclass(\u001b[91m::AbstractFloat\u001b[39m) at /Users/andy/.julia/packages/RCall/3mHXJ/src/convert/default.jl:236\n\u001b[0m  sexpclass(\u001b[91m::AbstractDataFrame\u001b[39m) at /Users/andy/.julia/packages/RCall/3mHXJ/src/convert/default.jl:225\n\u001b[0m  ...",
     "output_type": "error",
     "traceback": [
      "MethodError: no method matching sexpclass(::LinearMixedModel{Float64})\n\u001b[0mClosest candidates are:\n\u001b[0m  sexpclass(\u001b[91m::Complex\u001b[39m) at /Users/andy/.julia/packages/RCall/3mHXJ/src/convert/default.jl:236\n\u001b[0m  sexpclass(\u001b[91m::AbstractFloat\u001b[39m) at /Users/andy/.julia/packages/RCall/3mHXJ/src/convert/default.jl:236\n\u001b[0m  sexpclass(\u001b[91m::AbstractDataFrame\u001b[39m) at /Users/andy/.julia/packages/RCall/3mHXJ/src/convert/default.jl:225\n\u001b[0m  ...",
      "",
      "Stacktrace:",
      " [1] sexp(s::LinearMixedModel{Float64})",
      "   @ RCall ~/.julia/packages/RCall/3mHXJ/src/convert/default.jl:214",
      " [2] setindex!(e::Ptr{EnvSxp}, v::LinearMixedModel{Float64}, s::Symbol)",
      "   @ RCall ~/.julia/packages/RCall/3mHXJ/src/methods.jl:546",
      " [3] setindex!(e::RObject{EnvSxp}, v::LinearMixedModel{Float64}, s::Symbol)",
      "   @ RCall ~/.julia/packages/RCall/3mHXJ/src/methods.jl:555",
      " [4] top-level scope",
      "   @ In[183]:1",
      " [5] eval",
      "   @ ./boot.jl:360 [inlined]",
      " [6] include_string(mapexpr::typeof(REPL.softscope), mod::Module, code::String, filename::String)",
      "   @ Base ./loading.jl:1094"
     ]
    }
   ],
   "source": [
    "@rput m2"
   ]
  },
  {
   "cell_type": "code",
   "execution_count": 187,
   "metadata": {},
   "outputs": [
    {
     "data": {
      "text/plain": [
       "14-element Vector{Float64}:\n",
       " -0.23273519583425512\n",
       "  0.022584855541686846\n",
       " -0.5648457704098762\n",
       "  0.005021977891573035\n",
       " -0.6362290703621557\n",
       " -0.17710563507469018\n",
       " -0.42528025313239753\n",
       " -0.8106447719948325\n",
       "  0.012760271261155868\n",
       "  0.014495048264267753\n",
       " -0.42744474289967865\n",
       " -0.0322557097750158\n",
       " -0.02414300105186188\n",
       " -0.05741867785778734"
      ]
     },
     "execution_count": 187,
     "metadata": {},
     "output_type": "execute_result"
    }
   ],
   "source": [
    "v = m2.beta"
   ]
  },
  {
   "cell_type": "code",
   "execution_count": 188,
   "metadata": {},
   "outputs": [
    {
     "data": {
      "text/plain": [
       "14-element Vector{Float64}:\n",
       " -0.23273519583425512\n",
       "  0.022584855541686846\n",
       " -0.5648457704098762\n",
       "  0.005021977891573035\n",
       " -0.6362290703621557\n",
       " -0.17710563507469018\n",
       " -0.42528025313239753\n",
       " -0.8106447719948325\n",
       "  0.012760271261155868\n",
       "  0.014495048264267753\n",
       " -0.42744474289967865\n",
       " -0.0322557097750158\n",
       " -0.02414300105186188\n",
       " -0.05741867785778734"
      ]
     },
     "execution_count": 188,
     "metadata": {},
     "output_type": "execute_result"
    }
   ],
   "source": [
    "@rput v"
   ]
  },
  {
   "cell_type": "code",
   "execution_count": 189,
   "metadata": {},
   "outputs": [
    {
     "name": "stdout",
     "output_type": "stream",
     "text": [
      " [1] -0.232735196  0.022584856 -0.564845770  0.005021978 -0.636229070\n",
      " [6] -0.177105635 -0.425280253 -0.810644772  0.012760271  0.014495048\n",
      "[11] -0.427444743 -0.032255710 -0.024143001 -0.057418678\n"
     ]
    },
    {
     "data": {
      "text/plain": [
       "RObject{RealSxp}\n",
       " [1] -0.232735196  0.022584856 -0.564845770  0.005021978 -0.636229070\n",
       " [6] -0.177105635 -0.425280253 -0.810644772  0.012760271  0.014495048\n",
       "[11] -0.427444743 -0.032255710 -0.024143001 -0.057418678\n"
      ]
     },
     "execution_count": 189,
     "metadata": {},
     "output_type": "execute_result"
    }
   ],
   "source": [
    "R\"print(v)\""
   ]
  },
  {
   "cell_type": "code",
   "execution_count": 191,
   "metadata": {},
   "outputs": [
    {
     "data": {
      "text/plain": [
       "14×14 Matrix{Float64}:\n",
       "  0.0121465     0.000353941  -0.0008171    …  -3.30986e-5  -1.51139e-5\n",
       "  0.000353941   0.000696636  -2.85578e-5      -4.41525e-5  -2.00772e-5\n",
       " -0.0008171    -2.85578e-5    0.000949732      3.04529e-5   1.42869e-5\n",
       " -0.000814257  -2.84806e-5    0.000810479      3.01132e-5   1.5231e-5\n",
       " -0.00113997   -3.97611e-5    0.000873829      3.4953e-5    1.48996e-5\n",
       " -0.000897563  -3.13802e-5    0.000883111  …   3.53157e-5   1.47727e-5\n",
       " -0.000948598  -3.31697e-5    0.000872704      4.41515e-5   1.49597e-5\n",
       " -0.00043213   -1.5115e-5     0.000408307      1.49597e-5   2.17347e-5\n",
       " -2.85235e-5   -3.78474e-5    3.31547e-5       3.99865e-5   1.90067e-5\n",
       " -2.84232e-5   -3.79337e-5    2.82958e-5       3.95876e-5   2.02455e-5\n",
       " -3.96384e-5   -5.24458e-5    3.04767e-5   …   4.60992e-5   1.98697e-5\n",
       " -3.1321e-5    -4.17092e-5    3.08207e-5       4.63484e-5   1.96539e-5\n",
       " -3.30986e-5   -4.41525e-5    3.04529e-5       5.78992e-5   1.9906e-5\n",
       " -1.51139e-5   -2.00772e-5    1.42869e-5       1.9906e-5    2.88205e-5"
      ]
     },
     "execution_count": 191,
     "metadata": {},
     "output_type": "execute_result"
    }
   ],
   "source": [
    "m = vcov(m2)"
   ]
  },
  {
   "cell_type": "code",
   "execution_count": 192,
   "metadata": {},
   "outputs": [
    {
     "data": {
      "text/plain": [
       "14×14 Matrix{Float64}:\n",
       "  0.0121465     0.000353941  -0.0008171    …  -3.30986e-5  -1.51139e-5\n",
       "  0.000353941   0.000696636  -2.85578e-5      -4.41525e-5  -2.00772e-5\n",
       " -0.0008171    -2.85578e-5    0.000949732      3.04529e-5   1.42869e-5\n",
       " -0.000814257  -2.84806e-5    0.000810479      3.01132e-5   1.5231e-5\n",
       " -0.00113997   -3.97611e-5    0.000873829      3.4953e-5    1.48996e-5\n",
       " -0.000897563  -3.13802e-5    0.000883111  …   3.53157e-5   1.47727e-5\n",
       " -0.000948598  -3.31697e-5    0.000872704      4.41515e-5   1.49597e-5\n",
       " -0.00043213   -1.5115e-5     0.000408307      1.49597e-5   2.17347e-5\n",
       " -2.85235e-5   -3.78474e-5    3.31547e-5       3.99865e-5   1.90067e-5\n",
       " -2.84232e-5   -3.79337e-5    2.82958e-5       3.95876e-5   2.02455e-5\n",
       " -3.96384e-5   -5.24458e-5    3.04767e-5   …   4.60992e-5   1.98697e-5\n",
       " -3.1321e-5    -4.17092e-5    3.08207e-5       4.63484e-5   1.96539e-5\n",
       " -3.30986e-5   -4.41525e-5    3.04529e-5       5.78992e-5   1.9906e-5\n",
       " -1.51139e-5   -2.00772e-5    1.42869e-5       1.9906e-5    2.88205e-5"
      ]
     },
     "execution_count": 192,
     "metadata": {},
     "output_type": "execute_result"
    }
   ],
   "source": [
    "@rput m"
   ]
  },
  {
   "cell_type": "code",
   "execution_count": null,
   "metadata": {},
   "outputs": [],
   "source": []
  }
 ],
 "metadata": {
  "kernelspec": {
   "display_name": "Julia 1.6.1",
   "language": "julia",
   "name": "julia-1.6"
  },
  "language_info": {
   "file_extension": ".jl",
   "mimetype": "application/julia",
   "name": "julia",
   "version": "1.6.3"
  }
 },
 "nbformat": 4,
 "nbformat_minor": 4
}
